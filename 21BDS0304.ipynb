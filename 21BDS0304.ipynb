{
  "nbformat": 4,
  "nbformat_minor": 0,
  "metadata": {
    "colab": {
      "provenance": [],
      "authorship_tag": "ABX9TyObaxB0M7XTLjZr96fchvz8",
      "include_colab_link": true
    },
    "kernelspec": {
      "name": "python3",
      "display_name": "Python 3"
    },
    "language_info": {
      "name": "python"
    }
  },
  "cells": [
    {
      "cell_type": "markdown",
      "metadata": {
        "id": "view-in-github",
        "colab_type": "text"
      },
      "source": [
        "<a href=\"https://colab.research.google.com/github/RiyaDatta1/Portfolio/blob/main/21BDS0304.ipynb\" target=\"_parent\"><img src=\"https://colab.research.google.com/assets/colab-badge.svg\" alt=\"Open In Colab\"/></a>"
      ]
    },
    {
      "cell_type": "code",
      "execution_count": 1,
      "metadata": {
        "colab": {
          "base_uri": "https://localhost:8080/",
          "height": 211
        },
        "id": "GLob__X-be5V",
        "outputId": "371092d9-fff2-4181-9d08-6b19706e7ce9"
      },
      "outputs": [
        {
          "output_type": "error",
          "ename": "NameError",
          "evalue": "name 'library' is not defined",
          "traceback": [
            "\u001b[0;31m---------------------------------------------------------------------------\u001b[0m",
            "\u001b[0;31mNameError\u001b[0m                                 Traceback (most recent call last)",
            "\u001b[0;32m<ipython-input-1-777deff4882f>\u001b[0m in \u001b[0;36m<cell line: 0>\u001b[0;34m()\u001b[0m\n\u001b[1;32m      1\u001b[0m \u001b[0;31m# Load necessary libraries\u001b[0m\u001b[0;34m\u001b[0m\u001b[0;34m\u001b[0m\u001b[0m\n\u001b[0;32m----> 2\u001b[0;31m \u001b[0mlibrary\u001b[0m\u001b[0;34m(\u001b[0m\u001b[0mdplyr\u001b[0m\u001b[0;34m)\u001b[0m\u001b[0;34m\u001b[0m\u001b[0;34m\u001b[0m\u001b[0m\n\u001b[0m\u001b[1;32m      3\u001b[0m \u001b[0mlibrary\u001b[0m\u001b[0;34m(\u001b[0m\u001b[0mtidyr\u001b[0m\u001b[0;34m)\u001b[0m\u001b[0;34m\u001b[0m\u001b[0;34m\u001b[0m\u001b[0m\n\u001b[1;32m      4\u001b[0m \u001b[0mlibrary\u001b[0m\u001b[0;34m(\u001b[0m\u001b[0mdata\u001b[0m\u001b[0;34m.\u001b[0m\u001b[0mtable\u001b[0m\u001b[0;34m)\u001b[0m\u001b[0;34m\u001b[0m\u001b[0;34m\u001b[0m\u001b[0m\n\u001b[1;32m      5\u001b[0m \u001b[0;34m\u001b[0m\u001b[0m\n",
            "\u001b[0;31mNameError\u001b[0m: name 'library' is not defined"
          ]
        }
      ],
      "source": [
        "# Load necessary libraries\n",
        "library(dplyr)\n",
        "library(tidyr)\n",
        "library(data.table)\n",
        "\n",
        "# Load the dataset\n",
        "url <- \"https://raw.githubusercontent.com/salemprakash/EDA/main/Data/insurance.csv\"\n",
        "insurance <- read.csv(url)\n",
        "head(insurance)\n"
      ]
    },
    {
      "cell_type": "code",
      "source": [],
      "metadata": {
        "id": "gmJqKsK_bgRl"
      },
      "execution_count": null,
      "outputs": []
    },
    {
      "cell_type": "code",
      "source": [
        "Runtime > Change runtime type > Select \"Python 3\" as the runtime type\n",
        "\n"
      ],
      "metadata": {
        "colab": {
          "base_uri": "https://localhost:8080/",
          "height": 106
        },
        "id": "3dbfpB0VdF7g",
        "outputId": "8dde1422-c997-441e-e5d6-ff7558e49951"
      },
      "execution_count": 2,
      "outputs": [
        {
          "output_type": "error",
          "ename": "SyntaxError",
          "evalue": "invalid syntax (<ipython-input-2-46f6de4dff02>, line 1)",
          "traceback": [
            "\u001b[0;36m  File \u001b[0;32m\"<ipython-input-2-46f6de4dff02>\"\u001b[0;36m, line \u001b[0;32m1\u001b[0m\n\u001b[0;31m    Runtime > Change runtime type > Select \"Python 3\" as the runtime type\u001b[0m\n\u001b[0m                     ^\u001b[0m\n\u001b[0;31mSyntaxError\u001b[0m\u001b[0;31m:\u001b[0m invalid syntax\n"
          ]
        }
      ]
    },
    {
      "cell_type": "code",
      "source": [
        "# Install R and the required libraries\n",
        "!apt-get install -y r-base\n",
        "!R -e \"install.packages(c('dplyr', 'tidyr', 'data.table', 'zoo'), repos='http://cran.rstudio.com/')\"\n",
        "\n"
      ],
      "metadata": {
        "colab": {
          "base_uri": "https://localhost:8080/"
        },
        "id": "fUzICV1gdHfj",
        "outputId": "c530bedb-348b-47b5-8fa8-a9900de83e53"
      },
      "execution_count": 3,
      "outputs": [
        {
          "output_type": "stream",
          "name": "stdout",
          "text": [
            "Reading package lists... Done\n",
            "Building dependency tree... Done\n",
            "Reading state information... Done\n",
            "r-base is already the newest version (4.4.2-1.2204.0).\n",
            "0 upgraded, 0 newly installed, 0 to remove and 20 not upgraded.\n",
            "\n",
            "R version 4.4.2 (2024-10-31) -- \"Pile of Leaves\"\n",
            "Copyright (C) 2024 The R Foundation for Statistical Computing\n",
            "Platform: x86_64-pc-linux-gnu\n",
            "\n",
            "R is free software and comes with ABSOLUTELY NO WARRANTY.\n",
            "You are welcome to redistribute it under certain conditions.\n",
            "Type 'license()' or 'licence()' for distribution details.\n",
            "\n",
            "  Natural language support but running in an English locale\n",
            "\n",
            "R is a collaborative project with many contributors.\n",
            "Type 'contributors()' for more information and\n",
            "'citation()' on how to cite R or R packages in publications.\n",
            "\n",
            "Type 'demo()' for some demos, 'help()' for on-line help, or\n",
            "'help.start()' for an HTML browser interface to help.\n",
            "Type 'q()' to quit R.\n",
            "\n",
            "> install.packages(c('dplyr', 'tidyr', 'data.table', 'zoo'), repos='http://cran.rstudio.com/')\n",
            "Installing packages into ‘/usr/local/lib/R/site-library’\n",
            "(as ‘lib’ is unspecified)\n",
            "trying URL 'http://cran.rstudio.com/src/contrib/dplyr_1.1.4.tar.gz'\n",
            "Content type 'application/x-gzip' length 1207521 bytes (1.2 MB)\n",
            "==================================================\n",
            "downloaded 1.2 MB\n",
            "\n",
            "trying URL 'http://cran.rstudio.com/src/contrib/tidyr_1.3.1.tar.gz'\n",
            "Content type 'application/x-gzip' length 809058 bytes (790 KB)\n",
            "==================================================\n",
            "downloaded 790 KB\n",
            "\n",
            "trying URL 'http://cran.rstudio.com/src/contrib/data.table_1.16.4.tar.gz'\n",
            "Content type 'application/x-gzip' length 5490632 bytes (5.2 MB)\n",
            "==================================================\n",
            "downloaded 5.2 MB\n",
            "\n",
            "trying URL 'http://cran.rstudio.com/src/contrib/zoo_1.8-12.tar.gz'\n",
            "Content type 'application/x-gzip' length 782344 bytes (764 KB)\n",
            "==================================================\n",
            "downloaded 764 KB\n",
            "\n",
            "* installing *source* package ‘dplyr’ ...\n",
            "** package ‘dplyr’ successfully unpacked and MD5 sums checked\n",
            "** using staged installation\n",
            "** libs\n",
            "using C++ compiler: ‘g++ (Ubuntu 11.4.0-1ubuntu1~22.04) 11.4.0’\n",
            "g++ -std=gnu++17 -I\"/usr/share/R/include\" -DNDEBUG       -fpic  -g -O2 -ffile-prefix-map=/build/r-base-6tgf7J/r-base-4.4.2=. -fstack-protector-strong -Wformat -Werror=format-security -Wdate-time -D_FORTIFY_SOURCE=2   -c chop.cpp -o chop.o\n",
            "g++ -std=gnu++17 -I\"/usr/share/R/include\" -DNDEBUG       -fpic  -g -O2 -ffile-prefix-map=/build/r-base-6tgf7J/r-base-4.4.2=. -fstack-protector-strong -Wformat -Werror=format-security -Wdate-time -D_FORTIFY_SOURCE=2   -c filter.cpp -o filter.o\n",
            "g++ -std=gnu++17 -I\"/usr/share/R/include\" -DNDEBUG       -fpic  -g -O2 -ffile-prefix-map=/build/r-base-6tgf7J/r-base-4.4.2=. -fstack-protector-strong -Wformat -Werror=format-security -Wdate-time -D_FORTIFY_SOURCE=2   -c funs.cpp -o funs.o\n",
            "g++ -std=gnu++17 -I\"/usr/share/R/include\" -DNDEBUG       -fpic  -g -O2 -ffile-prefix-map=/build/r-base-6tgf7J/r-base-4.4.2=. -fstack-protector-strong -Wformat -Werror=format-security -Wdate-time -D_FORTIFY_SOURCE=2   -c group_by.cpp -o group_by.o\n",
            "g++ -std=gnu++17 -I\"/usr/share/R/include\" -DNDEBUG       -fpic  -g -O2 -ffile-prefix-map=/build/r-base-6tgf7J/r-base-4.4.2=. -fstack-protector-strong -Wformat -Werror=format-security -Wdate-time -D_FORTIFY_SOURCE=2   -c group_data.cpp -o group_data.o\n",
            "g++ -std=gnu++17 -I\"/usr/share/R/include\" -DNDEBUG       -fpic  -g -O2 -ffile-prefix-map=/build/r-base-6tgf7J/r-base-4.4.2=. -fstack-protector-strong -Wformat -Werror=format-security -Wdate-time -D_FORTIFY_SOURCE=2   -c imports.cpp -o imports.o\n",
            "g++ -std=gnu++17 -I\"/usr/share/R/include\" -DNDEBUG       -fpic  -g -O2 -ffile-prefix-map=/build/r-base-6tgf7J/r-base-4.4.2=. -fstack-protector-strong -Wformat -Werror=format-security -Wdate-time -D_FORTIFY_SOURCE=2   -c init.cpp -o init.o\n",
            "g++ -std=gnu++17 -I\"/usr/share/R/include\" -DNDEBUG       -fpic  -g -O2 -ffile-prefix-map=/build/r-base-6tgf7J/r-base-4.4.2=. -fstack-protector-strong -Wformat -Werror=format-security -Wdate-time -D_FORTIFY_SOURCE=2   -c mask.cpp -o mask.o\n",
            "g++ -std=gnu++17 -I\"/usr/share/R/include\" -DNDEBUG       -fpic  -g -O2 -ffile-prefix-map=/build/r-base-6tgf7J/r-base-4.4.2=. -fstack-protector-strong -Wformat -Werror=format-security -Wdate-time -D_FORTIFY_SOURCE=2   -c mutate.cpp -o mutate.o\n",
            "g++ -std=gnu++17 -I\"/usr/share/R/include\" -DNDEBUG       -fpic  -g -O2 -ffile-prefix-map=/build/r-base-6tgf7J/r-base-4.4.2=. -fstack-protector-strong -Wformat -Werror=format-security -Wdate-time -D_FORTIFY_SOURCE=2   -c reconstruct.cpp -o reconstruct.o\n",
            "g++ -std=gnu++17 -I\"/usr/share/R/include\" -DNDEBUG       -fpic  -g -O2 -ffile-prefix-map=/build/r-base-6tgf7J/r-base-4.4.2=. -fstack-protector-strong -Wformat -Werror=format-security -Wdate-time -D_FORTIFY_SOURCE=2   -c slice.cpp -o slice.o\n",
            "g++ -std=gnu++17 -I\"/usr/share/R/include\" -DNDEBUG       -fpic  -g -O2 -ffile-prefix-map=/build/r-base-6tgf7J/r-base-4.4.2=. -fstack-protector-strong -Wformat -Werror=format-security -Wdate-time -D_FORTIFY_SOURCE=2   -c summarise.cpp -o summarise.o\n",
            "g++ -std=gnu++17 -shared -L/usr/lib/R/lib -Wl,-Bsymbolic-functions -flto=auto -ffat-lto-objects -flto=auto -Wl,-z,relro -o dplyr.so chop.o filter.o funs.o group_by.o group_data.o imports.o init.o mask.o mutate.o reconstruct.o slice.o summarise.o -L/usr/lib/R/lib -lR\n",
            "installing to /usr/local/lib/R/site-library/00LOCK-dplyr/00new/dplyr/libs\n",
            "** R\n",
            "** data\n",
            "*** moving datasets to lazyload DB\n",
            "** inst\n",
            "** byte-compile and prepare package for lazy loading\n",
            "** help\n",
            "*** installing help indices\n",
            "*** copying figures\n",
            "** building package indices\n",
            "** installing vignettes\n",
            "** testing if installed package can be loaded from temporary location\n",
            "** checking absolute paths in shared objects and dynamic libraries\n",
            "** testing if installed package can be loaded from final location\n",
            "** testing if installed package keeps a record of temporary installation path\n",
            "* DONE (dplyr)\n",
            "* installing *source* package ‘data.table’ ...\n",
            "** package ‘data.table’ successfully unpacked and MD5 sums checked\n",
            "** using staged installation\n",
            "gcc 11.4.0\n",
            "zlib 1.2.11 is available ok\n",
            "* checking if R installation supports OpenMP without any extra hints... yes\n",
            "** libs\n",
            "using C compiler: ‘gcc (Ubuntu 11.4.0-1ubuntu1~22.04) 11.4.0’\n",
            "gcc -I\"/usr/share/R/include\" -DNDEBUG      -fopenmp  -fpic  -g -O2 -ffile-prefix-map=/build/r-base-6tgf7J/r-base-4.4.2=. -fstack-protector-strong -Wformat -Werror=format-security -Wdate-time -D_FORTIFY_SOURCE=2  -c assign.c -o assign.o\n",
            "gcc -I\"/usr/share/R/include\" -DNDEBUG      -fopenmp  -fpic  -g -O2 -ffile-prefix-map=/build/r-base-6tgf7J/r-base-4.4.2=. -fstack-protector-strong -Wformat -Werror=format-security -Wdate-time -D_FORTIFY_SOURCE=2  -c between.c -o between.o\n",
            "gcc -I\"/usr/share/R/include\" -DNDEBUG      -fopenmp  -fpic  -g -O2 -ffile-prefix-map=/build/r-base-6tgf7J/r-base-4.4.2=. -fstack-protector-strong -Wformat -Werror=format-security -Wdate-time -D_FORTIFY_SOURCE=2  -c bmerge.c -o bmerge.o\n",
            "gcc -I\"/usr/share/R/include\" -DNDEBUG      -fopenmp  -fpic  -g -O2 -ffile-prefix-map=/build/r-base-6tgf7J/r-base-4.4.2=. -fstack-protector-strong -Wformat -Werror=format-security -Wdate-time -D_FORTIFY_SOURCE=2  -c chmatch.c -o chmatch.o\n",
            "gcc -I\"/usr/share/R/include\" -DNDEBUG      -fopenmp  -fpic  -g -O2 -ffile-prefix-map=/build/r-base-6tgf7J/r-base-4.4.2=. -fstack-protector-strong -Wformat -Werror=format-security -Wdate-time -D_FORTIFY_SOURCE=2  -c cj.c -o cj.o\n",
            "gcc -I\"/usr/share/R/include\" -DNDEBUG      -fopenmp  -fpic  -g -O2 -ffile-prefix-map=/build/r-base-6tgf7J/r-base-4.4.2=. -fstack-protector-strong -Wformat -Werror=format-security -Wdate-time -D_FORTIFY_SOURCE=2  -c coalesce.c -o coalesce.o\n",
            "gcc -I\"/usr/share/R/include\" -DNDEBUG      -fopenmp  -fpic  -g -O2 -ffile-prefix-map=/build/r-base-6tgf7J/r-base-4.4.2=. -fstack-protector-strong -Wformat -Werror=format-security -Wdate-time -D_FORTIFY_SOURCE=2  -c dogroups.c -o dogroups.o\n",
            "gcc -I\"/usr/share/R/include\" -DNDEBUG      -fopenmp  -fpic  -g -O2 -ffile-prefix-map=/build/r-base-6tgf7J/r-base-4.4.2=. -fstack-protector-strong -Wformat -Werror=format-security -Wdate-time -D_FORTIFY_SOURCE=2  -c fastmean.c -o fastmean.o\n",
            "gcc -I\"/usr/share/R/include\" -DNDEBUG      -fopenmp  -fpic  -g -O2 -ffile-prefix-map=/build/r-base-6tgf7J/r-base-4.4.2=. -fstack-protector-strong -Wformat -Werror=format-security -Wdate-time -D_FORTIFY_SOURCE=2  -c fcast.c -o fcast.o\n",
            "gcc -I\"/usr/share/R/include\" -DNDEBUG      -fopenmp  -fpic  -g -O2 -ffile-prefix-map=/build/r-base-6tgf7J/r-base-4.4.2=. -fstack-protector-strong -Wformat -Werror=format-security -Wdate-time -D_FORTIFY_SOURCE=2  -c fifelse.c -o fifelse.o\n",
            "gcc -I\"/usr/share/R/include\" -DNDEBUG      -fopenmp  -fpic  -g -O2 -ffile-prefix-map=/build/r-base-6tgf7J/r-base-4.4.2=. -fstack-protector-strong -Wformat -Werror=format-security -Wdate-time -D_FORTIFY_SOURCE=2  -c fmelt.c -o fmelt.o\n",
            "gcc -I\"/usr/share/R/include\" -DNDEBUG      -fopenmp  -fpic  -g -O2 -ffile-prefix-map=/build/r-base-6tgf7J/r-base-4.4.2=. -fstack-protector-strong -Wformat -Werror=format-security -Wdate-time -D_FORTIFY_SOURCE=2  -c forder.c -o forder.o\n",
            "gcc -I\"/usr/share/R/include\" -DNDEBUG      -fopenmp  -fpic  -g -O2 -ffile-prefix-map=/build/r-base-6tgf7J/r-base-4.4.2=. -fstack-protector-strong -Wformat -Werror=format-security -Wdate-time -D_FORTIFY_SOURCE=2  -c frank.c -o frank.o\n",
            "gcc -I\"/usr/share/R/include\" -DNDEBUG      -fopenmp  -fpic  -g -O2 -ffile-prefix-map=/build/r-base-6tgf7J/r-base-4.4.2=. -fstack-protector-strong -Wformat -Werror=format-security -Wdate-time -D_FORTIFY_SOURCE=2  -c fread.c -o fread.o\n",
            "gcc -I\"/usr/share/R/include\" -DNDEBUG      -fopenmp  -fpic  -g -O2 -ffile-prefix-map=/build/r-base-6tgf7J/r-base-4.4.2=. -fstack-protector-strong -Wformat -Werror=format-security -Wdate-time -D_FORTIFY_SOURCE=2  -c freadR.c -o freadR.o\n",
            "gcc -I\"/usr/share/R/include\" -DNDEBUG      -fopenmp  -fpic  -g -O2 -ffile-prefix-map=/build/r-base-6tgf7J/r-base-4.4.2=. -fstack-protector-strong -Wformat -Werror=format-security -Wdate-time -D_FORTIFY_SOURCE=2  -c froll.c -o froll.o\n",
            "gcc -I\"/usr/share/R/include\" -DNDEBUG      -fopenmp  -fpic  -g -O2 -ffile-prefix-map=/build/r-base-6tgf7J/r-base-4.4.2=. -fstack-protector-strong -Wformat -Werror=format-security -Wdate-time -D_FORTIFY_SOURCE=2  -c frollR.c -o frollR.o\n",
            "gcc -I\"/usr/share/R/include\" -DNDEBUG      -fopenmp  -fpic  -g -O2 -ffile-prefix-map=/build/r-base-6tgf7J/r-base-4.4.2=. -fstack-protector-strong -Wformat -Werror=format-security -Wdate-time -D_FORTIFY_SOURCE=2  -c frolladaptive.c -o frolladaptive.o\n",
            "gcc -I\"/usr/share/R/include\" -DNDEBUG      -fopenmp  -fpic  -g -O2 -ffile-prefix-map=/build/r-base-6tgf7J/r-base-4.4.2=. -fstack-protector-strong -Wformat -Werror=format-security -Wdate-time -D_FORTIFY_SOURCE=2  -c fsort.c -o fsort.o\n",
            "gcc -I\"/usr/share/R/include\" -DNDEBUG      -fopenmp  -fpic  -g -O2 -ffile-prefix-map=/build/r-base-6tgf7J/r-base-4.4.2=. -fstack-protector-strong -Wformat -Werror=format-security -Wdate-time -D_FORTIFY_SOURCE=2  -c fwrite.c -o fwrite.o\n",
            "gcc -I\"/usr/share/R/include\" -DNDEBUG      -fopenmp  -fpic  -g -O2 -ffile-prefix-map=/build/r-base-6tgf7J/r-base-4.4.2=. -fstack-protector-strong -Wformat -Werror=format-security -Wdate-time -D_FORTIFY_SOURCE=2  -c fwriteR.c -o fwriteR.o\n",
            "gcc -I\"/usr/share/R/include\" -DNDEBUG      -fopenmp  -fpic  -g -O2 -ffile-prefix-map=/build/r-base-6tgf7J/r-base-4.4.2=. -fstack-protector-strong -Wformat -Werror=format-security -Wdate-time -D_FORTIFY_SOURCE=2  -c gsumm.c -o gsumm.o\n",
            "gcc -I\"/usr/share/R/include\" -DNDEBUG      -fopenmp  -fpic  -g -O2 -ffile-prefix-map=/build/r-base-6tgf7J/r-base-4.4.2=. -fstack-protector-strong -Wformat -Werror=format-security -Wdate-time -D_FORTIFY_SOURCE=2  -c idatetime.c -o idatetime.o\n",
            "gcc -I\"/usr/share/R/include\" -DNDEBUG      -fopenmp  -fpic  -g -O2 -ffile-prefix-map=/build/r-base-6tgf7J/r-base-4.4.2=. -fstack-protector-strong -Wformat -Werror=format-security -Wdate-time -D_FORTIFY_SOURCE=2  -c ijoin.c -o ijoin.o\n",
            "gcc -I\"/usr/share/R/include\" -DNDEBUG      -fopenmp  -fpic  -g -O2 -ffile-prefix-map=/build/r-base-6tgf7J/r-base-4.4.2=. -fstack-protector-strong -Wformat -Werror=format-security -Wdate-time -D_FORTIFY_SOURCE=2  -c init.c -o init.o\n",
            "gcc -I\"/usr/share/R/include\" -DNDEBUG      -fopenmp  -fpic  -g -O2 -ffile-prefix-map=/build/r-base-6tgf7J/r-base-4.4.2=. -fstack-protector-strong -Wformat -Werror=format-security -Wdate-time -D_FORTIFY_SOURCE=2  -c inrange.c -o inrange.o\n",
            "gcc -I\"/usr/share/R/include\" -DNDEBUG      -fopenmp  -fpic  -g -O2 -ffile-prefix-map=/build/r-base-6tgf7J/r-base-4.4.2=. -fstack-protector-strong -Wformat -Werror=format-security -Wdate-time -D_FORTIFY_SOURCE=2  -c nafill.c -o nafill.o\n",
            "gcc -I\"/usr/share/R/include\" -DNDEBUG      -fopenmp  -fpic  -g -O2 -ffile-prefix-map=/build/r-base-6tgf7J/r-base-4.4.2=. -fstack-protector-strong -Wformat -Werror=format-security -Wdate-time -D_FORTIFY_SOURCE=2  -c negate.c -o negate.o\n",
            "gcc -I\"/usr/share/R/include\" -DNDEBUG      -fopenmp  -fpic  -g -O2 -ffile-prefix-map=/build/r-base-6tgf7J/r-base-4.4.2=. -fstack-protector-strong -Wformat -Werror=format-security -Wdate-time -D_FORTIFY_SOURCE=2  -c nqrecreateindices.c -o nqrecreateindices.o\n",
            "gcc -I\"/usr/share/R/include\" -DNDEBUG      -fopenmp  -fpic  -g -O2 -ffile-prefix-map=/build/r-base-6tgf7J/r-base-4.4.2=. -fstack-protector-strong -Wformat -Werror=format-security -Wdate-time -D_FORTIFY_SOURCE=2  -c openmp-utils.c -o openmp-utils.o\n",
            "gcc -I\"/usr/share/R/include\" -DNDEBUG      -fopenmp  -fpic  -g -O2 -ffile-prefix-map=/build/r-base-6tgf7J/r-base-4.4.2=. -fstack-protector-strong -Wformat -Werror=format-security -Wdate-time -D_FORTIFY_SOURCE=2  -c programming.c -o programming.o\n",
            "gcc -I\"/usr/share/R/include\" -DNDEBUG      -fopenmp  -fpic  -g -O2 -ffile-prefix-map=/build/r-base-6tgf7J/r-base-4.4.2=. -fstack-protector-strong -Wformat -Werror=format-security -Wdate-time -D_FORTIFY_SOURCE=2  -c quickselect.c -o quickselect.o\n",
            "gcc -I\"/usr/share/R/include\" -DNDEBUG      -fopenmp  -fpic  -g -O2 -ffile-prefix-map=/build/r-base-6tgf7J/r-base-4.4.2=. -fstack-protector-strong -Wformat -Werror=format-security -Wdate-time -D_FORTIFY_SOURCE=2  -c rbindlist.c -o rbindlist.o\n",
            "gcc -I\"/usr/share/R/include\" -DNDEBUG      -fopenmp  -fpic  -g -O2 -ffile-prefix-map=/build/r-base-6tgf7J/r-base-4.4.2=. -fstack-protector-strong -Wformat -Werror=format-security -Wdate-time -D_FORTIFY_SOURCE=2  -c reorder.c -o reorder.o\n",
            "gcc -I\"/usr/share/R/include\" -DNDEBUG      -fopenmp  -fpic  -g -O2 -ffile-prefix-map=/build/r-base-6tgf7J/r-base-4.4.2=. -fstack-protector-strong -Wformat -Werror=format-security -Wdate-time -D_FORTIFY_SOURCE=2  -c shift.c -o shift.o\n",
            "gcc -I\"/usr/share/R/include\" -DNDEBUG      -fopenmp  -fpic  -g -O2 -ffile-prefix-map=/build/r-base-6tgf7J/r-base-4.4.2=. -fstack-protector-strong -Wformat -Werror=format-security -Wdate-time -D_FORTIFY_SOURCE=2  -c snprintf.c -o snprintf.o\n",
            "gcc -I\"/usr/share/R/include\" -DNDEBUG      -fopenmp  -fpic  -g -O2 -ffile-prefix-map=/build/r-base-6tgf7J/r-base-4.4.2=. -fstack-protector-strong -Wformat -Werror=format-security -Wdate-time -D_FORTIFY_SOURCE=2  -c subset.c -o subset.o\n",
            "gcc -I\"/usr/share/R/include\" -DNDEBUG      -fopenmp  -fpic  -g -O2 -ffile-prefix-map=/build/r-base-6tgf7J/r-base-4.4.2=. -fstack-protector-strong -Wformat -Werror=format-security -Wdate-time -D_FORTIFY_SOURCE=2  -c transpose.c -o transpose.o\n",
            "gcc -I\"/usr/share/R/include\" -DNDEBUG      -fopenmp  -fpic  -g -O2 -ffile-prefix-map=/build/r-base-6tgf7J/r-base-4.4.2=. -fstack-protector-strong -Wformat -Werror=format-security -Wdate-time -D_FORTIFY_SOURCE=2  -c types.c -o types.o\n",
            "gcc -I\"/usr/share/R/include\" -DNDEBUG      -fopenmp  -fpic  -g -O2 -ffile-prefix-map=/build/r-base-6tgf7J/r-base-4.4.2=. -fstack-protector-strong -Wformat -Werror=format-security -Wdate-time -D_FORTIFY_SOURCE=2  -c uniqlist.c -o uniqlist.o\n",
            "gcc -I\"/usr/share/R/include\" -DNDEBUG      -fopenmp  -fpic  -g -O2 -ffile-prefix-map=/build/r-base-6tgf7J/r-base-4.4.2=. -fstack-protector-strong -Wformat -Werror=format-security -Wdate-time -D_FORTIFY_SOURCE=2  -c utils.c -o utils.o\n",
            "gcc -I\"/usr/share/R/include\" -DNDEBUG      -fopenmp  -fpic  -g -O2 -ffile-prefix-map=/build/r-base-6tgf7J/r-base-4.4.2=. -fstack-protector-strong -Wformat -Werror=format-security -Wdate-time -D_FORTIFY_SOURCE=2  -c vecseq.c -o vecseq.o\n",
            "gcc -I\"/usr/share/R/include\" -DNDEBUG      -fopenmp  -fpic  -g -O2 -ffile-prefix-map=/build/r-base-6tgf7J/r-base-4.4.2=. -fstack-protector-strong -Wformat -Werror=format-security -Wdate-time -D_FORTIFY_SOURCE=2  -c wrappers.c -o wrappers.o\n",
            "gcc -shared -L/usr/lib/R/lib -Wl,-Bsymbolic-functions -flto=auto -ffat-lto-objects -flto=auto -Wl,-z,relro -o data.table.so assign.o between.o bmerge.o chmatch.o cj.o coalesce.o dogroups.o fastmean.o fcast.o fifelse.o fmelt.o forder.o frank.o fread.o freadR.o froll.o frollR.o frolladaptive.o fsort.o fwrite.o fwriteR.o gsumm.o idatetime.o ijoin.o init.o inrange.o nafill.o negate.o nqrecreateindices.o openmp-utils.o programming.o quickselect.o rbindlist.o reorder.o shift.o snprintf.o subset.o transpose.o types.o uniqlist.o utils.o vecseq.o wrappers.o -fopenmp -lz -L/usr/lib/R/lib -lR\n",
            "PKG_CFLAGS = -fopenmp\n",
            "PKG_LIBS = -fopenmp -lz\n",
            "if [ \"data.table.so\" != \"data_table.so\" ]; then mv data.table.so data_table.so; fi\n",
            "if [ \"\" != \"Windows_NT\" ] && [ `uname -s` = 'Darwin' ]; then install_name_tool -id data_table.so data_table.so; fi\n",
            "installing to /usr/local/lib/R/site-library/00LOCK-data.table/00new/data.table/libs\n",
            "** R\n",
            "** inst\n",
            "** byte-compile and prepare package for lazy loading\n",
            "** help\n",
            "*** installing help indices\n",
            "** building package indices\n",
            "** installing vignettes\n",
            "** testing if installed package can be loaded from temporary location\n",
            "** checking absolute paths in shared objects and dynamic libraries\n",
            "** testing if installed package can be loaded from final location\n",
            "** testing if installed package keeps a record of temporary installation path\n",
            "* DONE (data.table)\n",
            "* installing *source* package ‘zoo’ ...\n",
            "** package ‘zoo’ successfully unpacked and MD5 sums checked\n",
            "** using staged installation\n",
            "** libs\n",
            "using C compiler: ‘gcc (Ubuntu 11.4.0-1ubuntu1~22.04) 11.4.0’\n",
            "gcc -I\"/usr/share/R/include\" -DNDEBUG -I../inst/include      -fpic  -g -O2 -ffile-prefix-map=/build/r-base-6tgf7J/r-base-4.4.2=. -fstack-protector-strong -Wformat -Werror=format-security -Wdate-time -D_FORTIFY_SOURCE=2  -c coredata.c -o coredata.o\n",
            "gcc -I\"/usr/share/R/include\" -DNDEBUG -I../inst/include      -fpic  -g -O2 -ffile-prefix-map=/build/r-base-6tgf7J/r-base-4.4.2=. -fstack-protector-strong -Wformat -Werror=format-security -Wdate-time -D_FORTIFY_SOURCE=2  -c init.c -o init.o\n",
            "gcc -I\"/usr/share/R/include\" -DNDEBUG -I../inst/include      -fpic  -g -O2 -ffile-prefix-map=/build/r-base-6tgf7J/r-base-4.4.2=. -fstack-protector-strong -Wformat -Werror=format-security -Wdate-time -D_FORTIFY_SOURCE=2  -c lag.c -o lag.o\n",
            "gcc -shared -L/usr/lib/R/lib -Wl,-Bsymbolic-functions -flto=auto -ffat-lto-objects -flto=auto -Wl,-z,relro -o zoo.so coredata.o init.o lag.o -L/usr/lib/R/lib -lR\n",
            "installing to /usr/local/lib/R/site-library/00LOCK-zoo/00new/zoo/libs\n",
            "** R\n",
            "** demo\n",
            "** inst\n",
            "** byte-compile and prepare package for lazy loading\n",
            "** help\n",
            "*** installing help indices\n",
            "** building package indices\n",
            "** installing vignettes\n",
            "** testing if installed package can be loaded from temporary location\n",
            "** checking absolute paths in shared objects and dynamic libraries\n",
            "** testing if installed package can be loaded from final location\n",
            "** testing if installed package keeps a record of temporary installation path\n",
            "* DONE (zoo)\n",
            "* installing *source* package ‘tidyr’ ...\n",
            "** package ‘tidyr’ successfully unpacked and MD5 sums checked\n",
            "** using staged installation\n",
            "** libs\n",
            "using C++ compiler: ‘g++ (Ubuntu 11.4.0-1ubuntu1~22.04) 11.4.0’\n",
            "g++ -std=gnu++17 -I\"/usr/share/R/include\" -DNDEBUG  -I'/usr/lib/R/site-library/cpp11/include'     -fpic  -g -O2 -ffile-prefix-map=/build/r-base-6tgf7J/r-base-4.4.2=. -fstack-protector-strong -Wformat -Werror=format-security -Wdate-time -D_FORTIFY_SOURCE=2   -c cpp11.cpp -o cpp11.o\n",
            "g++ -std=gnu++17 -I\"/usr/share/R/include\" -DNDEBUG  -I'/usr/lib/R/site-library/cpp11/include'     -fpic  -g -O2 -ffile-prefix-map=/build/r-base-6tgf7J/r-base-4.4.2=. -fstack-protector-strong -Wformat -Werror=format-security -Wdate-time -D_FORTIFY_SOURCE=2   -c melt.cpp -o melt.o\n",
            "g++ -std=gnu++17 -I\"/usr/share/R/include\" -DNDEBUG  -I'/usr/lib/R/site-library/cpp11/include'     -fpic  -g -O2 -ffile-prefix-map=/build/r-base-6tgf7J/r-base-4.4.2=. -fstack-protector-strong -Wformat -Werror=format-security -Wdate-time -D_FORTIFY_SOURCE=2   -c simplifyPieces.cpp -o simplifyPieces.o\n",
            "g++ -std=gnu++17 -shared -L/usr/lib/R/lib -Wl,-Bsymbolic-functions -flto=auto -ffat-lto-objects -flto=auto -Wl,-z,relro -o tidyr.so cpp11.o melt.o simplifyPieces.o -L/usr/lib/R/lib -lR\n",
            "installing to /usr/local/lib/R/site-library/00LOCK-tidyr/00new/tidyr/libs\n",
            "** R\n",
            "** data\n",
            "*** moving datasets to lazyload DB\n",
            "** inst\n",
            "** byte-compile and prepare package for lazy loading\n",
            "** help\n",
            "*** installing help indices\n",
            "*** copying figures\n",
            "** building package indices\n",
            "** installing vignettes\n",
            "** testing if installed package can be loaded from temporary location\n",
            "** checking absolute paths in shared objects and dynamic libraries\n",
            "** testing if installed package can be loaded from final location\n",
            "** testing if installed package keeps a record of temporary installation path\n",
            "* DONE (tidyr)\n",
            "\n",
            "The downloaded source packages are in\n",
            "\t‘/tmp/Rtmpm6wdu2/downloaded_packages’\n",
            "> \n",
            "> \n"
          ]
        }
      ]
    },
    {
      "cell_type": "code",
      "source": [
        "# Install rpy2 to run R code in Python environment\n",
        "!pip install rpy2\n"
      ],
      "metadata": {
        "colab": {
          "base_uri": "https://localhost:8080/"
        },
        "id": "IproQgtudRgg",
        "outputId": "ff79bcc9-e590-42e1-e1bd-29d30eeebf06"
      },
      "execution_count": 4,
      "outputs": [
        {
          "output_type": "stream",
          "name": "stdout",
          "text": [
            "Requirement already satisfied: rpy2 in /usr/local/lib/python3.11/dist-packages (3.4.2)\n",
            "Requirement already satisfied: cffi>=1.10.0 in /usr/local/lib/python3.11/dist-packages (from rpy2) (1.17.1)\n",
            "Requirement already satisfied: jinja2 in /usr/local/lib/python3.11/dist-packages (from rpy2) (3.1.5)\n",
            "Requirement already satisfied: pytz in /usr/local/lib/python3.11/dist-packages (from rpy2) (2025.1)\n",
            "Requirement already satisfied: tzlocal in /usr/local/lib/python3.11/dist-packages (from rpy2) (5.2)\n",
            "Requirement already satisfied: pycparser in /usr/local/lib/python3.11/dist-packages (from cffi>=1.10.0->rpy2) (2.22)\n",
            "Requirement already satisfied: MarkupSafe>=2.0 in /usr/local/lib/python3.11/dist-packages (from jinja2->rpy2) (3.0.2)\n"
          ]
        }
      ]
    },
    {
      "cell_type": "code",
      "source": [
        "# Load rpy2 to use R in Colab\n",
        "%load_ext rpy2.ipython\n"
      ],
      "metadata": {
        "id": "8dJE6oPrdjD_"
      },
      "execution_count": 5,
      "outputs": []
    },
    {
      "cell_type": "code",
      "source": [
        "# Load necessary libraries\n",
        "library(dplyr)\n",
        "library(tidyr)\n",
        "library(data.table)\n",
        "\n",
        "# Load the dataset\n",
        "url <- \"https://raw.githubusercontent.com/salemprakash/EDA/main/Data/insurance.csv\"\n",
        "insurance <- read.csv(url)\n",
        "head(insurance)\n",
        "\n"
      ],
      "metadata": {
        "colab": {
          "base_uri": "https://localhost:8080/",
          "height": 211
        },
        "id": "wlDnpPGHdnbY",
        "outputId": "7ed5ab21-2292-46be-cbd4-0d3906a6af12"
      },
      "execution_count": 6,
      "outputs": [
        {
          "output_type": "error",
          "ename": "NameError",
          "evalue": "name 'library' is not defined",
          "traceback": [
            "\u001b[0;31m---------------------------------------------------------------------------\u001b[0m",
            "\u001b[0;31mNameError\u001b[0m                                 Traceback (most recent call last)",
            "\u001b[0;32m<ipython-input-6-12be37fd5ded>\u001b[0m in \u001b[0;36m<cell line: 0>\u001b[0;34m()\u001b[0m\n\u001b[1;32m      1\u001b[0m \u001b[0;31m# Load necessary libraries\u001b[0m\u001b[0;34m\u001b[0m\u001b[0;34m\u001b[0m\u001b[0m\n\u001b[0;32m----> 2\u001b[0;31m \u001b[0mlibrary\u001b[0m\u001b[0;34m(\u001b[0m\u001b[0mdplyr\u001b[0m\u001b[0;34m)\u001b[0m\u001b[0;34m\u001b[0m\u001b[0;34m\u001b[0m\u001b[0m\n\u001b[0m\u001b[1;32m      3\u001b[0m \u001b[0mlibrary\u001b[0m\u001b[0;34m(\u001b[0m\u001b[0mtidyr\u001b[0m\u001b[0;34m)\u001b[0m\u001b[0;34m\u001b[0m\u001b[0;34m\u001b[0m\u001b[0m\n\u001b[1;32m      4\u001b[0m \u001b[0mlibrary\u001b[0m\u001b[0;34m(\u001b[0m\u001b[0mdata\u001b[0m\u001b[0;34m.\u001b[0m\u001b[0mtable\u001b[0m\u001b[0;34m)\u001b[0m\u001b[0;34m\u001b[0m\u001b[0;34m\u001b[0m\u001b[0m\n\u001b[1;32m      5\u001b[0m \u001b[0;34m\u001b[0m\u001b[0m\n",
            "\u001b[0;31mNameError\u001b[0m: name 'library' is not defined"
          ]
        }
      ]
    },
    {
      "cell_type": "code",
      "source": [
        "# Install R base\n",
        "!apt-get install -y r-base\n",
        "\n",
        "# Install required R packages\n",
        "!R -e \"install.packages(c('dplyr', 'tidyr', 'data.table', 'zoo'), repos='http://cran.rstudio.com/')\"\n"
      ],
      "metadata": {
        "colab": {
          "base_uri": "https://localhost:8080/"
        },
        "id": "tAnVGh-5dw1i",
        "outputId": "49238830-e600-4343-8855-003115cec9af"
      },
      "execution_count": 7,
      "outputs": [
        {
          "output_type": "stream",
          "name": "stdout",
          "text": [
            "Reading package lists... Done\n",
            "Building dependency tree... Done\n",
            "Reading state information... Done\n",
            "r-base is already the newest version (4.4.2-1.2204.0).\n",
            "0 upgraded, 0 newly installed, 0 to remove and 20 not upgraded.\n",
            "\n",
            "R version 4.4.2 (2024-10-31) -- \"Pile of Leaves\"\n",
            "Copyright (C) 2024 The R Foundation for Statistical Computing\n",
            "Platform: x86_64-pc-linux-gnu\n",
            "\n",
            "R is free software and comes with ABSOLUTELY NO WARRANTY.\n",
            "You are welcome to redistribute it under certain conditions.\n",
            "Type 'license()' or 'licence()' for distribution details.\n",
            "\n",
            "  Natural language support but running in an English locale\n",
            "\n",
            "R is a collaborative project with many contributors.\n",
            "Type 'contributors()' for more information and\n",
            "'citation()' on how to cite R or R packages in publications.\n",
            "\n",
            "Type 'demo()' for some demos, 'help()' for on-line help, or\n",
            "'help.start()' for an HTML browser interface to help.\n",
            "Type 'q()' to quit R.\n",
            "\n",
            "> install.packages(c('dplyr', 'tidyr', 'data.table', 'zoo'), repos='http://cran.rstudio.com/')\n",
            "Installing packages into ‘/usr/local/lib/R/site-library’\n",
            "(as ‘lib’ is unspecified)\n",
            "trying URL 'http://cran.rstudio.com/src/contrib/dplyr_1.1.4.tar.gz'\n",
            "Content type 'application/x-gzip' length 1207521 bytes (1.2 MB)\n",
            "==================================================\n",
            "downloaded 1.2 MB\n",
            "\n",
            "trying URL 'http://cran.rstudio.com/src/contrib/tidyr_1.3.1.tar.gz'\n",
            "Content type 'application/x-gzip' length 809058 bytes (790 KB)\n",
            "==================================================\n",
            "downloaded 790 KB\n",
            "\n",
            "trying URL 'http://cran.rstudio.com/src/contrib/data.table_1.16.4.tar.gz'\n",
            "Content type 'application/x-gzip' length 5490632 bytes (5.2 MB)\n",
            "==================================================\n",
            "downloaded 5.2 MB\n",
            "\n",
            "trying URL 'http://cran.rstudio.com/src/contrib/zoo_1.8-12.tar.gz'\n",
            "Content type 'application/x-gzip' length 782344 bytes (764 KB)\n",
            "==================================================\n",
            "downloaded 764 KB\n",
            "\n",
            "* installing *source* package ‘dplyr’ ...\n",
            "** package ‘dplyr’ successfully unpacked and MD5 sums checked\n",
            "** using staged installation\n",
            "** libs\n",
            "using C++ compiler: ‘g++ (Ubuntu 11.4.0-1ubuntu1~22.04) 11.4.0’\n",
            "g++ -std=gnu++17 -I\"/usr/share/R/include\" -DNDEBUG       -fpic  -g -O2 -ffile-prefix-map=/build/r-base-6tgf7J/r-base-4.4.2=. -fstack-protector-strong -Wformat -Werror=format-security -Wdate-time -D_FORTIFY_SOURCE=2   -c chop.cpp -o chop.o\n",
            "g++ -std=gnu++17 -I\"/usr/share/R/include\" -DNDEBUG       -fpic  -g -O2 -ffile-prefix-map=/build/r-base-6tgf7J/r-base-4.4.2=. -fstack-protector-strong -Wformat -Werror=format-security -Wdate-time -D_FORTIFY_SOURCE=2   -c filter.cpp -o filter.o\n",
            "g++ -std=gnu++17 -I\"/usr/share/R/include\" -DNDEBUG       -fpic  -g -O2 -ffile-prefix-map=/build/r-base-6tgf7J/r-base-4.4.2=. -fstack-protector-strong -Wformat -Werror=format-security -Wdate-time -D_FORTIFY_SOURCE=2   -c funs.cpp -o funs.o\n",
            "g++ -std=gnu++17 -I\"/usr/share/R/include\" -DNDEBUG       -fpic  -g -O2 -ffile-prefix-map=/build/r-base-6tgf7J/r-base-4.4.2=. -fstack-protector-strong -Wformat -Werror=format-security -Wdate-time -D_FORTIFY_SOURCE=2   -c group_by.cpp -o group_by.o\n",
            "g++ -std=gnu++17 -I\"/usr/share/R/include\" -DNDEBUG       -fpic  -g -O2 -ffile-prefix-map=/build/r-base-6tgf7J/r-base-4.4.2=. -fstack-protector-strong -Wformat -Werror=format-security -Wdate-time -D_FORTIFY_SOURCE=2   -c group_data.cpp -o group_data.o\n",
            "g++ -std=gnu++17 -I\"/usr/share/R/include\" -DNDEBUG       -fpic  -g -O2 -ffile-prefix-map=/build/r-base-6tgf7J/r-base-4.4.2=. -fstack-protector-strong -Wformat -Werror=format-security -Wdate-time -D_FORTIFY_SOURCE=2   -c imports.cpp -o imports.o\n",
            "g++ -std=gnu++17 -I\"/usr/share/R/include\" -DNDEBUG       -fpic  -g -O2 -ffile-prefix-map=/build/r-base-6tgf7J/r-base-4.4.2=. -fstack-protector-strong -Wformat -Werror=format-security -Wdate-time -D_FORTIFY_SOURCE=2   -c init.cpp -o init.o\n",
            "g++ -std=gnu++17 -I\"/usr/share/R/include\" -DNDEBUG       -fpic  -g -O2 -ffile-prefix-map=/build/r-base-6tgf7J/r-base-4.4.2=. -fstack-protector-strong -Wformat -Werror=format-security -Wdate-time -D_FORTIFY_SOURCE=2   -c mask.cpp -o mask.o\n",
            "g++ -std=gnu++17 -I\"/usr/share/R/include\" -DNDEBUG       -fpic  -g -O2 -ffile-prefix-map=/build/r-base-6tgf7J/r-base-4.4.2=. -fstack-protector-strong -Wformat -Werror=format-security -Wdate-time -D_FORTIFY_SOURCE=2   -c mutate.cpp -o mutate.o\n",
            "g++ -std=gnu++17 -I\"/usr/share/R/include\" -DNDEBUG       -fpic  -g -O2 -ffile-prefix-map=/build/r-base-6tgf7J/r-base-4.4.2=. -fstack-protector-strong -Wformat -Werror=format-security -Wdate-time -D_FORTIFY_SOURCE=2   -c reconstruct.cpp -o reconstruct.o\n",
            "g++ -std=gnu++17 -I\"/usr/share/R/include\" -DNDEBUG       -fpic  -g -O2 -ffile-prefix-map=/build/r-base-6tgf7J/r-base-4.4.2=. -fstack-protector-strong -Wformat -Werror=format-security -Wdate-time -D_FORTIFY_SOURCE=2   -c slice.cpp -o slice.o\n",
            "g++ -std=gnu++17 -I\"/usr/share/R/include\" -DNDEBUG       -fpic  -g -O2 -ffile-prefix-map=/build/r-base-6tgf7J/r-base-4.4.2=. -fstack-protector-strong -Wformat -Werror=format-security -Wdate-time -D_FORTIFY_SOURCE=2   -c summarise.cpp -o summarise.o\n",
            "g++ -std=gnu++17 -shared -L/usr/lib/R/lib -Wl,-Bsymbolic-functions -flto=auto -ffat-lto-objects -flto=auto -Wl,-z,relro -o dplyr.so chop.o filter.o funs.o group_by.o group_data.o imports.o init.o mask.o mutate.o reconstruct.o slice.o summarise.o -L/usr/lib/R/lib -lR\n",
            "installing to /usr/local/lib/R/site-library/00LOCK-dplyr/00new/dplyr/libs\n",
            "** R\n",
            "** data\n",
            "*** moving datasets to lazyload DB\n",
            "** inst\n",
            "** byte-compile and prepare package for lazy loading\n",
            "** help\n",
            "*** installing help indices\n",
            "*** copying figures\n",
            "** building package indices\n",
            "** installing vignettes\n",
            "** testing if installed package can be loaded from temporary location\n",
            "** checking absolute paths in shared objects and dynamic libraries\n",
            "** testing if installed package can be loaded from final location\n",
            "** testing if installed package keeps a record of temporary installation path\n",
            "* DONE (dplyr)\n",
            "* installing *source* package ‘data.table’ ...\n",
            "** package ‘data.table’ successfully unpacked and MD5 sums checked\n",
            "** using staged installation\n",
            "gcc 11.4.0\n",
            "zlib 1.2.11 is available ok\n",
            "* checking if R installation supports OpenMP without any extra hints... yes\n",
            "** libs\n",
            "using C compiler: ‘gcc (Ubuntu 11.4.0-1ubuntu1~22.04) 11.4.0’\n",
            "gcc -I\"/usr/share/R/include\" -DNDEBUG      -fopenmp  -fpic  -g -O2 -ffile-prefix-map=/build/r-base-6tgf7J/r-base-4.4.2=. -fstack-protector-strong -Wformat -Werror=format-security -Wdate-time -D_FORTIFY_SOURCE=2  -c assign.c -o assign.o\n",
            "gcc -I\"/usr/share/R/include\" -DNDEBUG      -fopenmp  -fpic  -g -O2 -ffile-prefix-map=/build/r-base-6tgf7J/r-base-4.4.2=. -fstack-protector-strong -Wformat -Werror=format-security -Wdate-time -D_FORTIFY_SOURCE=2  -c between.c -o between.o\n",
            "gcc -I\"/usr/share/R/include\" -DNDEBUG      -fopenmp  -fpic  -g -O2 -ffile-prefix-map=/build/r-base-6tgf7J/r-base-4.4.2=. -fstack-protector-strong -Wformat -Werror=format-security -Wdate-time -D_FORTIFY_SOURCE=2  -c bmerge.c -o bmerge.o\n",
            "gcc -I\"/usr/share/R/include\" -DNDEBUG      -fopenmp  -fpic  -g -O2 -ffile-prefix-map=/build/r-base-6tgf7J/r-base-4.4.2=. -fstack-protector-strong -Wformat -Werror=format-security -Wdate-time -D_FORTIFY_SOURCE=2  -c chmatch.c -o chmatch.o\n",
            "gcc -I\"/usr/share/R/include\" -DNDEBUG      -fopenmp  -fpic  -g -O2 -ffile-prefix-map=/build/r-base-6tgf7J/r-base-4.4.2=. -fstack-protector-strong -Wformat -Werror=format-security -Wdate-time -D_FORTIFY_SOURCE=2  -c cj.c -o cj.o\n",
            "gcc -I\"/usr/share/R/include\" -DNDEBUG      -fopenmp  -fpic  -g -O2 -ffile-prefix-map=/build/r-base-6tgf7J/r-base-4.4.2=. -fstack-protector-strong -Wformat -Werror=format-security -Wdate-time -D_FORTIFY_SOURCE=2  -c coalesce.c -o coalesce.o\n",
            "gcc -I\"/usr/share/R/include\" -DNDEBUG      -fopenmp  -fpic  -g -O2 -ffile-prefix-map=/build/r-base-6tgf7J/r-base-4.4.2=. -fstack-protector-strong -Wformat -Werror=format-security -Wdate-time -D_FORTIFY_SOURCE=2  -c dogroups.c -o dogroups.o\n",
            "gcc -I\"/usr/share/R/include\" -DNDEBUG      -fopenmp  -fpic  -g -O2 -ffile-prefix-map=/build/r-base-6tgf7J/r-base-4.4.2=. -fstack-protector-strong -Wformat -Werror=format-security -Wdate-time -D_FORTIFY_SOURCE=2  -c fastmean.c -o fastmean.o\n",
            "gcc -I\"/usr/share/R/include\" -DNDEBUG      -fopenmp  -fpic  -g -O2 -ffile-prefix-map=/build/r-base-6tgf7J/r-base-4.4.2=. -fstack-protector-strong -Wformat -Werror=format-security -Wdate-time -D_FORTIFY_SOURCE=2  -c fcast.c -o fcast.o\n",
            "gcc -I\"/usr/share/R/include\" -DNDEBUG      -fopenmp  -fpic  -g -O2 -ffile-prefix-map=/build/r-base-6tgf7J/r-base-4.4.2=. -fstack-protector-strong -Wformat -Werror=format-security -Wdate-time -D_FORTIFY_SOURCE=2  -c fifelse.c -o fifelse.o\n",
            "gcc -I\"/usr/share/R/include\" -DNDEBUG      -fopenmp  -fpic  -g -O2 -ffile-prefix-map=/build/r-base-6tgf7J/r-base-4.4.2=. -fstack-protector-strong -Wformat -Werror=format-security -Wdate-time -D_FORTIFY_SOURCE=2  -c fmelt.c -o fmelt.o\n",
            "gcc -I\"/usr/share/R/include\" -DNDEBUG      -fopenmp  -fpic  -g -O2 -ffile-prefix-map=/build/r-base-6tgf7J/r-base-4.4.2=. -fstack-protector-strong -Wformat -Werror=format-security -Wdate-time -D_FORTIFY_SOURCE=2  -c forder.c -o forder.o\n",
            "gcc -I\"/usr/share/R/include\" -DNDEBUG      -fopenmp  -fpic  -g -O2 -ffile-prefix-map=/build/r-base-6tgf7J/r-base-4.4.2=. -fstack-protector-strong -Wformat -Werror=format-security -Wdate-time -D_FORTIFY_SOURCE=2  -c frank.c -o frank.o\n",
            "gcc -I\"/usr/share/R/include\" -DNDEBUG      -fopenmp  -fpic  -g -O2 -ffile-prefix-map=/build/r-base-6tgf7J/r-base-4.4.2=. -fstack-protector-strong -Wformat -Werror=format-security -Wdate-time -D_FORTIFY_SOURCE=2  -c fread.c -o fread.o\n",
            "gcc -I\"/usr/share/R/include\" -DNDEBUG      -fopenmp  -fpic  -g -O2 -ffile-prefix-map=/build/r-base-6tgf7J/r-base-4.4.2=. -fstack-protector-strong -Wformat -Werror=format-security -Wdate-time -D_FORTIFY_SOURCE=2  -c freadR.c -o freadR.o\n",
            "gcc -I\"/usr/share/R/include\" -DNDEBUG      -fopenmp  -fpic  -g -O2 -ffile-prefix-map=/build/r-base-6tgf7J/r-base-4.4.2=. -fstack-protector-strong -Wformat -Werror=format-security -Wdate-time -D_FORTIFY_SOURCE=2  -c froll.c -o froll.o\n",
            "gcc -I\"/usr/share/R/include\" -DNDEBUG      -fopenmp  -fpic  -g -O2 -ffile-prefix-map=/build/r-base-6tgf7J/r-base-4.4.2=. -fstack-protector-strong -Wformat -Werror=format-security -Wdate-time -D_FORTIFY_SOURCE=2  -c frollR.c -o frollR.o\n",
            "gcc -I\"/usr/share/R/include\" -DNDEBUG      -fopenmp  -fpic  -g -O2 -ffile-prefix-map=/build/r-base-6tgf7J/r-base-4.4.2=. -fstack-protector-strong -Wformat -Werror=format-security -Wdate-time -D_FORTIFY_SOURCE=2  -c frolladaptive.c -o frolladaptive.o\n",
            "gcc -I\"/usr/share/R/include\" -DNDEBUG      -fopenmp  -fpic  -g -O2 -ffile-prefix-map=/build/r-base-6tgf7J/r-base-4.4.2=. -fstack-protector-strong -Wformat -Werror=format-security -Wdate-time -D_FORTIFY_SOURCE=2  -c fsort.c -o fsort.o\n",
            "gcc -I\"/usr/share/R/include\" -DNDEBUG      -fopenmp  -fpic  -g -O2 -ffile-prefix-map=/build/r-base-6tgf7J/r-base-4.4.2=. -fstack-protector-strong -Wformat -Werror=format-security -Wdate-time -D_FORTIFY_SOURCE=2  -c fwrite.c -o fwrite.o\n",
            "gcc -I\"/usr/share/R/include\" -DNDEBUG      -fopenmp  -fpic  -g -O2 -ffile-prefix-map=/build/r-base-6tgf7J/r-base-4.4.2=. -fstack-protector-strong -Wformat -Werror=format-security -Wdate-time -D_FORTIFY_SOURCE=2  -c fwriteR.c -o fwriteR.o\n",
            "gcc -I\"/usr/share/R/include\" -DNDEBUG      -fopenmp  -fpic  -g -O2 -ffile-prefix-map=/build/r-base-6tgf7J/r-base-4.4.2=. -fstack-protector-strong -Wformat -Werror=format-security -Wdate-time -D_FORTIFY_SOURCE=2  -c gsumm.c -o gsumm.o\n",
            "gcc -I\"/usr/share/R/include\" -DNDEBUG      -fopenmp  -fpic  -g -O2 -ffile-prefix-map=/build/r-base-6tgf7J/r-base-4.4.2=. -fstack-protector-strong -Wformat -Werror=format-security -Wdate-time -D_FORTIFY_SOURCE=2  -c idatetime.c -o idatetime.o\n",
            "gcc -I\"/usr/share/R/include\" -DNDEBUG      -fopenmp  -fpic  -g -O2 -ffile-prefix-map=/build/r-base-6tgf7J/r-base-4.4.2=. -fstack-protector-strong -Wformat -Werror=format-security -Wdate-time -D_FORTIFY_SOURCE=2  -c ijoin.c -o ijoin.o\n",
            "gcc -I\"/usr/share/R/include\" -DNDEBUG      -fopenmp  -fpic  -g -O2 -ffile-prefix-map=/build/r-base-6tgf7J/r-base-4.4.2=. -fstack-protector-strong -Wformat -Werror=format-security -Wdate-time -D_FORTIFY_SOURCE=2  -c init.c -o init.o\n",
            "gcc -I\"/usr/share/R/include\" -DNDEBUG      -fopenmp  -fpic  -g -O2 -ffile-prefix-map=/build/r-base-6tgf7J/r-base-4.4.2=. -fstack-protector-strong -Wformat -Werror=format-security -Wdate-time -D_FORTIFY_SOURCE=2  -c inrange.c -o inrange.o\n",
            "gcc -I\"/usr/share/R/include\" -DNDEBUG      -fopenmp  -fpic  -g -O2 -ffile-prefix-map=/build/r-base-6tgf7J/r-base-4.4.2=. -fstack-protector-strong -Wformat -Werror=format-security -Wdate-time -D_FORTIFY_SOURCE=2  -c nafill.c -o nafill.o\n",
            "gcc -I\"/usr/share/R/include\" -DNDEBUG      -fopenmp  -fpic  -g -O2 -ffile-prefix-map=/build/r-base-6tgf7J/r-base-4.4.2=. -fstack-protector-strong -Wformat -Werror=format-security -Wdate-time -D_FORTIFY_SOURCE=2  -c negate.c -o negate.o\n",
            "gcc -I\"/usr/share/R/include\" -DNDEBUG      -fopenmp  -fpic  -g -O2 -ffile-prefix-map=/build/r-base-6tgf7J/r-base-4.4.2=. -fstack-protector-strong -Wformat -Werror=format-security -Wdate-time -D_FORTIFY_SOURCE=2  -c nqrecreateindices.c -o nqrecreateindices.o\n",
            "gcc -I\"/usr/share/R/include\" -DNDEBUG      -fopenmp  -fpic  -g -O2 -ffile-prefix-map=/build/r-base-6tgf7J/r-base-4.4.2=. -fstack-protector-strong -Wformat -Werror=format-security -Wdate-time -D_FORTIFY_SOURCE=2  -c openmp-utils.c -o openmp-utils.o\n",
            "gcc -I\"/usr/share/R/include\" -DNDEBUG      -fopenmp  -fpic  -g -O2 -ffile-prefix-map=/build/r-base-6tgf7J/r-base-4.4.2=. -fstack-protector-strong -Wformat -Werror=format-security -Wdate-time -D_FORTIFY_SOURCE=2  -c programming.c -o programming.o\n",
            "gcc -I\"/usr/share/R/include\" -DNDEBUG      -fopenmp  -fpic  -g -O2 -ffile-prefix-map=/build/r-base-6tgf7J/r-base-4.4.2=. -fstack-protector-strong -Wformat -Werror=format-security -Wdate-time -D_FORTIFY_SOURCE=2  -c quickselect.c -o quickselect.o\n",
            "gcc -I\"/usr/share/R/include\" -DNDEBUG      -fopenmp  -fpic  -g -O2 -ffile-prefix-map=/build/r-base-6tgf7J/r-base-4.4.2=. -fstack-protector-strong -Wformat -Werror=format-security -Wdate-time -D_FORTIFY_SOURCE=2  -c rbindlist.c -o rbindlist.o\n",
            "gcc -I\"/usr/share/R/include\" -DNDEBUG      -fopenmp  -fpic  -g -O2 -ffile-prefix-map=/build/r-base-6tgf7J/r-base-4.4.2=. -fstack-protector-strong -Wformat -Werror=format-security -Wdate-time -D_FORTIFY_SOURCE=2  -c reorder.c -o reorder.o\n",
            "gcc -I\"/usr/share/R/include\" -DNDEBUG      -fopenmp  -fpic  -g -O2 -ffile-prefix-map=/build/r-base-6tgf7J/r-base-4.4.2=. -fstack-protector-strong -Wformat -Werror=format-security -Wdate-time -D_FORTIFY_SOURCE=2  -c shift.c -o shift.o\n",
            "gcc -I\"/usr/share/R/include\" -DNDEBUG      -fopenmp  -fpic  -g -O2 -ffile-prefix-map=/build/r-base-6tgf7J/r-base-4.4.2=. -fstack-protector-strong -Wformat -Werror=format-security -Wdate-time -D_FORTIFY_SOURCE=2  -c snprintf.c -o snprintf.o\n",
            "gcc -I\"/usr/share/R/include\" -DNDEBUG      -fopenmp  -fpic  -g -O2 -ffile-prefix-map=/build/r-base-6tgf7J/r-base-4.4.2=. -fstack-protector-strong -Wformat -Werror=format-security -Wdate-time -D_FORTIFY_SOURCE=2  -c subset.c -o subset.o\n",
            "gcc -I\"/usr/share/R/include\" -DNDEBUG      -fopenmp  -fpic  -g -O2 -ffile-prefix-map=/build/r-base-6tgf7J/r-base-4.4.2=. -fstack-protector-strong -Wformat -Werror=format-security -Wdate-time -D_FORTIFY_SOURCE=2  -c transpose.c -o transpose.o\n",
            "gcc -I\"/usr/share/R/include\" -DNDEBUG      -fopenmp  -fpic  -g -O2 -ffile-prefix-map=/build/r-base-6tgf7J/r-base-4.4.2=. -fstack-protector-strong -Wformat -Werror=format-security -Wdate-time -D_FORTIFY_SOURCE=2  -c types.c -o types.o\n",
            "gcc -I\"/usr/share/R/include\" -DNDEBUG      -fopenmp  -fpic  -g -O2 -ffile-prefix-map=/build/r-base-6tgf7J/r-base-4.4.2=. -fstack-protector-strong -Wformat -Werror=format-security -Wdate-time -D_FORTIFY_SOURCE=2  -c uniqlist.c -o uniqlist.o\n",
            "gcc -I\"/usr/share/R/include\" -DNDEBUG      -fopenmp  -fpic  -g -O2 -ffile-prefix-map=/build/r-base-6tgf7J/r-base-4.4.2=. -fstack-protector-strong -Wformat -Werror=format-security -Wdate-time -D_FORTIFY_SOURCE=2  -c utils.c -o utils.o\n",
            "gcc -I\"/usr/share/R/include\" -DNDEBUG      -fopenmp  -fpic  -g -O2 -ffile-prefix-map=/build/r-base-6tgf7J/r-base-4.4.2=. -fstack-protector-strong -Wformat -Werror=format-security -Wdate-time -D_FORTIFY_SOURCE=2  -c vecseq.c -o vecseq.o\n",
            "gcc -I\"/usr/share/R/include\" -DNDEBUG      -fopenmp  -fpic  -g -O2 -ffile-prefix-map=/build/r-base-6tgf7J/r-base-4.4.2=. -fstack-protector-strong -Wformat -Werror=format-security -Wdate-time -D_FORTIFY_SOURCE=2  -c wrappers.c -o wrappers.o\n",
            "gcc -shared -L/usr/lib/R/lib -Wl,-Bsymbolic-functions -flto=auto -ffat-lto-objects -flto=auto -Wl,-z,relro -o data.table.so assign.o between.o bmerge.o chmatch.o cj.o coalesce.o dogroups.o fastmean.o fcast.o fifelse.o fmelt.o forder.o frank.o fread.o freadR.o froll.o frollR.o frolladaptive.o fsort.o fwrite.o fwriteR.o gsumm.o idatetime.o ijoin.o init.o inrange.o nafill.o negate.o nqrecreateindices.o openmp-utils.o programming.o quickselect.o rbindlist.o reorder.o shift.o snprintf.o subset.o transpose.o types.o uniqlist.o utils.o vecseq.o wrappers.o -fopenmp -lz -L/usr/lib/R/lib -lR\n",
            "PKG_CFLAGS = -fopenmp\n",
            "PKG_LIBS = -fopenmp -lz\n",
            "if [ \"data.table.so\" != \"data_table.so\" ]; then mv data.table.so data_table.so; fi\n",
            "if [ \"\" != \"Windows_NT\" ] && [ `uname -s` = 'Darwin' ]; then install_name_tool -id data_table.so data_table.so; fi\n",
            "installing to /usr/local/lib/R/site-library/00LOCK-data.table/00new/data.table/libs\n",
            "** R\n",
            "** inst\n",
            "** byte-compile and prepare package for lazy loading\n",
            "** help\n",
            "*** installing help indices\n",
            "** building package indices\n",
            "** installing vignettes\n",
            "** testing if installed package can be loaded from temporary location\n",
            "** checking absolute paths in shared objects and dynamic libraries\n",
            "** testing if installed package can be loaded from final location\n",
            "** testing if installed package keeps a record of temporary installation path\n",
            "* DONE (data.table)\n",
            "* installing *source* package ‘zoo’ ...\n",
            "** package ‘zoo’ successfully unpacked and MD5 sums checked\n",
            "** using staged installation\n",
            "** libs\n",
            "using C compiler: ‘gcc (Ubuntu 11.4.0-1ubuntu1~22.04) 11.4.0’\n",
            "gcc -I\"/usr/share/R/include\" -DNDEBUG -I../inst/include      -fpic  -g -O2 -ffile-prefix-map=/build/r-base-6tgf7J/r-base-4.4.2=. -fstack-protector-strong -Wformat -Werror=format-security -Wdate-time -D_FORTIFY_SOURCE=2  -c coredata.c -o coredata.o\n",
            "gcc -I\"/usr/share/R/include\" -DNDEBUG -I../inst/include      -fpic  -g -O2 -ffile-prefix-map=/build/r-base-6tgf7J/r-base-4.4.2=. -fstack-protector-strong -Wformat -Werror=format-security -Wdate-time -D_FORTIFY_SOURCE=2  -c init.c -o init.o\n",
            "gcc -I\"/usr/share/R/include\" -DNDEBUG -I../inst/include      -fpic  -g -O2 -ffile-prefix-map=/build/r-base-6tgf7J/r-base-4.4.2=. -fstack-protector-strong -Wformat -Werror=format-security -Wdate-time -D_FORTIFY_SOURCE=2  -c lag.c -o lag.o\n",
            "gcc -shared -L/usr/lib/R/lib -Wl,-Bsymbolic-functions -flto=auto -ffat-lto-objects -flto=auto -Wl,-z,relro -o zoo.so coredata.o init.o lag.o -L/usr/lib/R/lib -lR\n",
            "installing to /usr/local/lib/R/site-library/00LOCK-zoo/00new/zoo/libs\n",
            "** R\n",
            "** demo\n",
            "** inst\n",
            "** byte-compile and prepare package for lazy loading\n",
            "** help\n",
            "*** installing help indices\n",
            "** building package indices\n",
            "** installing vignettes\n",
            "** testing if installed package can be loaded from temporary location\n",
            "** checking absolute paths in shared objects and dynamic libraries\n",
            "** testing if installed package can be loaded from final location\n",
            "** testing if installed package keeps a record of temporary installation path\n",
            "* DONE (zoo)\n",
            "* installing *source* package ‘tidyr’ ...\n",
            "** package ‘tidyr’ successfully unpacked and MD5 sums checked\n",
            "** using staged installation\n",
            "** libs\n",
            "using C++ compiler: ‘g++ (Ubuntu 11.4.0-1ubuntu1~22.04) 11.4.0’\n",
            "g++ -std=gnu++17 -I\"/usr/share/R/include\" -DNDEBUG  -I'/usr/lib/R/site-library/cpp11/include'     -fpic  -g -O2 -ffile-prefix-map=/build/r-base-6tgf7J/r-base-4.4.2=. -fstack-protector-strong -Wformat -Werror=format-security -Wdate-time -D_FORTIFY_SOURCE=2   -c cpp11.cpp -o cpp11.o\n",
            "g++ -std=gnu++17 -I\"/usr/share/R/include\" -DNDEBUG  -I'/usr/lib/R/site-library/cpp11/include'     -fpic  -g -O2 -ffile-prefix-map=/build/r-base-6tgf7J/r-base-4.4.2=. -fstack-protector-strong -Wformat -Werror=format-security -Wdate-time -D_FORTIFY_SOURCE=2   -c melt.cpp -o melt.o\n",
            "g++ -std=gnu++17 -I\"/usr/share/R/include\" -DNDEBUG  -I'/usr/lib/R/site-library/cpp11/include'     -fpic  -g -O2 -ffile-prefix-map=/build/r-base-6tgf7J/r-base-4.4.2=. -fstack-protector-strong -Wformat -Werror=format-security -Wdate-time -D_FORTIFY_SOURCE=2   -c simplifyPieces.cpp -o simplifyPieces.o\n",
            "g++ -std=gnu++17 -shared -L/usr/lib/R/lib -Wl,-Bsymbolic-functions -flto=auto -ffat-lto-objects -flto=auto -Wl,-z,relro -o tidyr.so cpp11.o melt.o simplifyPieces.o -L/usr/lib/R/lib -lR\n",
            "installing to /usr/local/lib/R/site-library/00LOCK-tidyr/00new/tidyr/libs\n",
            "** R\n",
            "** data\n",
            "*** moving datasets to lazyload DB\n",
            "** inst\n",
            "** byte-compile and prepare package for lazy loading\n",
            "** help\n",
            "*** installing help indices\n",
            "*** copying figures\n",
            "** building package indices\n",
            "** installing vignettes\n",
            "** testing if installed package can be loaded from temporary location\n",
            "** checking absolute paths in shared objects and dynamic libraries\n",
            "** testing if installed package can be loaded from final location\n",
            "** testing if installed package keeps a record of temporary installation path\n",
            "* DONE (tidyr)\n",
            "\n",
            "The downloaded source packages are in\n",
            "\t‘/tmp/RtmppJHTrZ/downloaded_packages’\n",
            "> \n",
            "> \n"
          ]
        }
      ]
    },
    {
      "cell_type": "code",
      "source": [
        "%%R\n",
        "# Load necessary libraries in R\n",
        "library(dplyr)\n",
        "library(tidyr)\n",
        "library(data.table)\n",
        "library(zoo)\n",
        "\n",
        "# Load the dataset\n",
        "url <- \"https://raw.githubusercontent.com/salemprakash/EDA/main/Data/insurance.csv\"\n",
        "insurance <- read.csv(url)\n",
        "head(insurance)\n",
        "\n"
      ],
      "metadata": {
        "colab": {
          "base_uri": "https://localhost:8080/"
        },
        "id": "onmo9Umcd4RU",
        "outputId": "bc47e144-8728-4349-8447-3d5b9e9ef5f3"
      },
      "execution_count": 8,
      "outputs": [
        {
          "output_type": "stream",
          "name": "stderr",
          "text": [
            "WARNING:rpy2.rinterface_lib.callbacks:R[write to console]: \n",
            "Attaching package: ‘dplyr’\n",
            "\n",
            "\n",
            "WARNING:rpy2.rinterface_lib.callbacks:R[write to console]: The following objects are masked from ‘package:stats’:\n",
            "\n",
            "    filter, lag\n",
            "\n",
            "\n",
            "WARNING:rpy2.rinterface_lib.callbacks:R[write to console]: The following objects are masked from ‘package:base’:\n",
            "\n",
            "    intersect, setdiff, setequal, union\n",
            "\n",
            "\n",
            "WARNING:rpy2.rinterface_lib.callbacks:R[write to console]: data.table 1.16.4 using 1 threads (see ?getDTthreads).  \n",
            "WARNING:rpy2.rinterface_lib.callbacks:R[write to console]: Latest news: r-datatable.com\n",
            "\n",
            "WARNING:rpy2.rinterface_lib.callbacks:R[write to console]: \n",
            "Attaching package: ‘data.table’\n",
            "\n",
            "\n",
            "WARNING:rpy2.rinterface_lib.callbacks:R[write to console]: The following objects are masked from ‘package:dplyr’:\n",
            "\n",
            "    between, first, last\n",
            "\n",
            "\n",
            "WARNING:rpy2.rinterface_lib.callbacks:R[write to console]: \n",
            "Attaching package: ‘zoo’\n",
            "\n",
            "\n",
            "WARNING:rpy2.rinterface_lib.callbacks:R[write to console]: The following objects are masked from ‘package:data.table’:\n",
            "\n",
            "    yearmon, yearqtr\n",
            "\n",
            "\n",
            "WARNING:rpy2.rinterface_lib.callbacks:R[write to console]: The following objects are masked from ‘package:base’:\n",
            "\n",
            "    as.Date, as.Date.numeric\n",
            "\n",
            "\n"
          ]
        },
        {
          "output_type": "stream",
          "name": "stdout",
          "text": [
            "  age    sex    bmi children smoker    region   charges\n",
            "1  19 female 27.900        0    yes southwest 16884.924\n",
            "2  18   male 33.770        1     no southeast  1725.552\n",
            "3  28   male 33.000        3     no southeast  4449.462\n",
            "4  33   male 22.705        0     no northwest 21984.471\n",
            "5  32   male 28.880        0     no northwest  3866.855\n",
            "6  31 female 25.740        0     no southeast  3756.622\n"
          ]
        }
      ]
    },
    {
      "cell_type": "code",
      "source": [
        "# Concatenate (Row-wise)\n",
        "insurance_concat <- rbind(insurance, insurance)\n",
        "\n",
        "# Merge (Column-wise)\n",
        "insurance_2 <- insurance  # Duplicate to demonstrate\n",
        "insurance_merged <- cbind(insurance, insurance_2)\n",
        "head(insurance_merged)\n",
        "\n"
      ],
      "metadata": {
        "colab": {
          "base_uri": "https://localhost:8080/",
          "height": 211
        },
        "id": "A6C83_XweHx9",
        "outputId": "0f5bcdf0-2b5a-47fc-96ac-02140a7625a5"
      },
      "execution_count": 9,
      "outputs": [
        {
          "output_type": "error",
          "ename": "NameError",
          "evalue": "name 'insurance_concat' is not defined",
          "traceback": [
            "\u001b[0;31m---------------------------------------------------------------------------\u001b[0m",
            "\u001b[0;31mNameError\u001b[0m                                 Traceback (most recent call last)",
            "\u001b[0;32m<ipython-input-9-9552bceeee7c>\u001b[0m in \u001b[0;36m<cell line: 0>\u001b[0;34m()\u001b[0m\n\u001b[1;32m      1\u001b[0m \u001b[0;31m# Concatenate (Row-wise)\u001b[0m\u001b[0;34m\u001b[0m\u001b[0;34m\u001b[0m\u001b[0m\n\u001b[0;32m----> 2\u001b[0;31m \u001b[0minsurance_concat\u001b[0m \u001b[0;34m<\u001b[0m\u001b[0;34m-\u001b[0m \u001b[0mrbind\u001b[0m\u001b[0;34m(\u001b[0m\u001b[0minsurance\u001b[0m\u001b[0;34m,\u001b[0m \u001b[0minsurance\u001b[0m\u001b[0;34m)\u001b[0m\u001b[0;34m\u001b[0m\u001b[0;34m\u001b[0m\u001b[0m\n\u001b[0m\u001b[1;32m      3\u001b[0m \u001b[0;34m\u001b[0m\u001b[0m\n\u001b[1;32m      4\u001b[0m \u001b[0;31m# Merge (Column-wise)\u001b[0m\u001b[0;34m\u001b[0m\u001b[0;34m\u001b[0m\u001b[0m\n\u001b[1;32m      5\u001b[0m \u001b[0minsurance_2\u001b[0m \u001b[0;34m<\u001b[0m\u001b[0;34m-\u001b[0m \u001b[0minsurance\u001b[0m  \u001b[0;31m# Duplicate to demonstrate\u001b[0m\u001b[0;34m\u001b[0m\u001b[0;34m\u001b[0m\u001b[0m\n",
            "\u001b[0;31mNameError\u001b[0m: name 'insurance_concat' is not defined"
          ]
        }
      ]
    },
    {
      "cell_type": "code",
      "source": [
        "%%R\n",
        "# Concatenate (Row-wise)\n",
        "insurance_concat <- rbind(insurance, insurance)\n",
        "\n",
        "# Merge (Column-wise)\n",
        "insurance_2 <- insurance  # Duplicate to demonstrate\n",
        "insurance_merged <- cbind(insurance, insurance_2)\n",
        "head(insurance_merged)\n",
        "\n"
      ],
      "metadata": {
        "colab": {
          "base_uri": "https://localhost:8080/"
        },
        "id": "zsRwwFgEeTsB",
        "outputId": "ffc760b2-6296-4029-f010-bba8bd3a417a"
      },
      "execution_count": 10,
      "outputs": [
        {
          "output_type": "stream",
          "name": "stdout",
          "text": [
            "  age    sex    bmi children smoker    region   charges age    sex    bmi\n",
            "1  19 female 27.900        0    yes southwest 16884.924  19 female 27.900\n",
            "2  18   male 33.770        1     no southeast  1725.552  18   male 33.770\n",
            "3  28   male 33.000        3     no southeast  4449.462  28   male 33.000\n",
            "4  33   male 22.705        0     no northwest 21984.471  33   male 22.705\n",
            "5  32   male 28.880        0     no northwest  3866.855  32   male 28.880\n",
            "6  31 female 25.740        0     no southeast  3756.622  31 female 25.740\n",
            "  children smoker    region   charges\n",
            "1        0    yes southwest 16884.924\n",
            "2        1     no southeast  1725.552\n",
            "3        3     no southeast  4449.462\n",
            "4        0     no northwest 21984.471\n",
            "5        0     no northwest  3866.855\n",
            "6        0     no southeast  3756.622\n"
          ]
        }
      ]
    },
    {
      "cell_type": "code",
      "source": [
        "\n",
        "%%R\n",
        "set.seed(123)\n",
        "insurance$Company <- sample(c(\"Aetna\", \"UnitedHealth\", \"BlueCross\", \"Cigna\"), nrow(insurance), replace = TRUE)\n",
        "head(insurance)\n"
      ],
      "metadata": {
        "colab": {
          "base_uri": "https://localhost:8080/"
        },
        "id": "bQvGBfIAecRD",
        "outputId": "4212921c-4ff7-4245-c6b3-1e232efda1f1"
      },
      "execution_count": 11,
      "outputs": [
        {
          "output_type": "stream",
          "name": "stdout",
          "text": [
            "  age    sex    bmi children smoker    region   charges      Company\n",
            "1  19 female 27.900        0    yes southwest 16884.924    BlueCross\n",
            "2  18   male 33.770        1     no southeast  1725.552    BlueCross\n",
            "3  28   male 33.000        3     no southeast  4449.462    BlueCross\n",
            "4  33   male 22.705        0     no northwest 21984.471 UnitedHealth\n",
            "5  32   male 28.880        0     no northwest  3866.855    BlueCross\n",
            "6  31 female 25.740        0     no southeast  3756.622 UnitedHealth\n"
          ]
        }
      ]
    },
    {
      "cell_type": "code",
      "source": [
        "%%R\n",
        "# Value counts for 'Company' column\n",
        "table(insurance$Company)\n"
      ],
      "metadata": {
        "colab": {
          "base_uri": "https://localhost:8080/"
        },
        "id": "6xBKzQvcepQ_",
        "outputId": "b1e312a2-d871-4def-c7a0-80fb27e4e452"
      },
      "execution_count": 12,
      "outputs": [
        {
          "output_type": "stream",
          "name": "stdout",
          "text": [
            "\n",
            "       Aetna    BlueCross        Cigna UnitedHealth \n",
            "         328          348          328          334 \n"
          ]
        }
      ]
    },
    {
      "cell_type": "code",
      "source": [
        "%%R\n",
        "# Reshape using pivot_longer\n",
        "insurance_long <- insurance %>%\n",
        "  pivot_longer(cols = c(age, bmi, children),\n",
        "               names_to = \"Attribute\", values_to = \"Value\")\n",
        "\n",
        "# Hierarchical indexing using dcast from data.table\n",
        "insurance_hier <- dcast(setDT(insurance_long), sex + region ~ Attribute, value.var = \"Value\")\n",
        "head(insurance_hier)\n"
      ],
      "metadata": {
        "colab": {
          "base_uri": "https://localhost:8080/"
        },
        "id": "-Gk46FPBeuoB",
        "outputId": "92671c59-3544-4d1a-ffd2-908202f7aad9"
      },
      "execution_count": 13,
      "outputs": [
        {
          "output_type": "stream",
          "name": "stdout",
          "text": [
            "Key: <sex, region>\n",
            "      sex    region   age   bmi children\n",
            "   <char>    <char> <int> <int>    <int>\n",
            "1:      ? northeast     1     1        1\n",
            "2:      ? northwest     1     1        1\n",
            "3: female northeast   161   161      161\n",
            "4: female northwest   163   163      163\n",
            "5: female southeast   175   175      175\n",
            "6: female southwest   162   162      162\n"
          ]
        }
      ]
    },
    {
      "cell_type": "code",
      "source": [
        "%%R\n",
        "# Log transformation for skewed data\n",
        "insurance$log_charges <- log(insurance$charges)\n",
        "\n",
        "# Normalization\n",
        "insurance$norm_bmi <- (insurance$bmi - min(insurance$bmi)) / (max(insurance$bmi) - min(insurance$bmi))\n",
        "\n",
        "# Standardization (Z-score)\n",
        "insurance$std_age <- scale(insurance$age)\n"
      ],
      "metadata": {
        "id": "JoTaBRnwezCW"
      },
      "execution_count": 16,
      "outputs": []
    },
    {
      "cell_type": "code",
      "source": [
        "# Replace 'male' with 'M' and 'female' with 'F' in the 'sex' column\n",
        "insurance$sex <- recode(insurance$sex, male = \"M\", female = \"F\")\n"
      ],
      "metadata": {
        "colab": {
          "base_uri": "https://localhost:8080/",
          "height": 106
        },
        "id": "EbzVddbrfFpz",
        "outputId": "a84ce4d0-02d2-4e20-9a36-a922badd1dc7"
      },
      "execution_count": 18,
      "outputs": [
        {
          "output_type": "error",
          "ename": "SyntaxError",
          "evalue": "invalid syntax (<ipython-input-18-481d9ead73b0>, line 2)",
          "traceback": [
            "\u001b[0;36m  File \u001b[0;32m\"<ipython-input-18-481d9ead73b0>\"\u001b[0;36m, line \u001b[0;32m2\u001b[0m\n\u001b[0;31m    insurance$sex <- recode(insurance$sex, male = \"M\", female = \"F\")\u001b[0m\n\u001b[0m             ^\u001b[0m\n\u001b[0;31mSyntaxError\u001b[0m\u001b[0;31m:\u001b[0m invalid syntax\n"
          ]
        }
      ]
    },
    {
      "cell_type": "code",
      "source": [
        "%%R\n",
        "# Replace 'male' with 'M' and 'female' with 'F' in the 'sex' column\n",
        "insurance$sex <- recode(insurance$sex, male = \"M\", female = \"F\")\n"
      ],
      "metadata": {
        "id": "1i-bV-Zye4FO"
      },
      "execution_count": 19,
      "outputs": []
    },
    {
      "cell_type": "code",
      "source": [
        "%%R\n",
        "# Replace 'male' with 'M' and 'female' with 'F' in the 'sex' column\n",
        "insurance$sex <- recode(insurance$sex, male = \"M\", female = \"F\")\n",
        "\n",
        "# Print the first few rows to see the changes\n",
        "head(insurance)\n"
      ],
      "metadata": {
        "colab": {
          "base_uri": "https://localhost:8080/"
        },
        "id": "GYBnfCLlf7TI",
        "outputId": "f7d2aa86-94e4-4b35-cb65-3eb6be78f478"
      },
      "execution_count": 29,
      "outputs": [
        {
          "output_type": "stream",
          "name": "stdout",
          "text": [
            "       age sex    bmi children smoker    region   charges      Company\n",
            "1 39.20863   F 27.900        0    yes southwest 16884.924    BlueCross\n",
            "2 18.00000   M 33.770        1     no southeast  1725.552    BlueCross\n",
            "3 28.00000   M 33.000        3     no southeast  4449.462    BlueCross\n",
            "4 33.00000   M 22.705        0     no northwest 21984.471 UnitedHealth\n",
            "5 32.00000   M 28.880        0     no northwest  3866.855    BlueCross\n",
            "6 31.00000   F 25.740        0     no southeast  3756.622 UnitedHealth\n",
            "  log_charges norm_bmi    std_age\n",
            "1    9.734176       NA  0.0000000\n",
            "2    7.453302       NA -1.5156970\n",
            "3    8.400538       NA -0.8010364\n",
            "4    9.998092       NA -0.4437061\n",
            "5    8.260197       NA -0.5151722\n",
            "6    8.231275       NA -0.5866382\n"
          ]
        }
      ]
    },
    {
      "cell_type": "code",
      "source": [
        "\n",
        "%%R\n",
        "# Introduce some missing values for demonstration\n",
        "set.seed(42)\n",
        "insurance$age[sample(1:nrow(insurance), 10)] <- NA\n",
        "\n",
        "# Print the dataset with missing values to check\n",
        "head(insurance)\n",
        "\n",
        "# 1. Remove rows with any NA\n",
        "insurance_clean <- na.omit(insurance)\n",
        "\n",
        "# Print the cleaned data (rows with NA removed)\n",
        "head(insurance_clean)\n",
        "\n",
        "# 2. Replace missing values with mean (only for numeric columns)\n",
        "insurance$age[is.na(insurance$age)] <- mean(insurance$age, na.rm = TRUE)\n",
        "\n",
        "# Print the dataset after replacing NAs\n",
        "head(insurance)\n"
      ],
      "metadata": {
        "colab": {
          "base_uri": "https://localhost:8080/"
        },
        "id": "jd8DbN41e9_c",
        "outputId": "a5990117-0861-488f-8ce5-3296b747e888"
      },
      "execution_count": 30,
      "outputs": [
        {
          "output_type": "stream",
          "name": "stdout",
          "text": [
            "       age sex    bmi children smoker    region   charges      Company\n",
            "1 39.20863   F 27.900        0    yes southwest 16884.924    BlueCross\n",
            "2 18.00000   M 33.770        1     no southeast  1725.552    BlueCross\n",
            "3 28.00000   M 33.000        3     no southeast  4449.462    BlueCross\n",
            "4 33.00000   M 22.705        0     no northwest 21984.471 UnitedHealth\n",
            "5 32.00000   M 28.880        0     no northwest  3866.855    BlueCross\n",
            "6 31.00000   F 25.740        0     no southeast  3756.622 UnitedHealth\n",
            "  log_charges norm_bmi    std_age\n",
            "1    9.734176       NA  0.0000000\n",
            "2    7.453302       NA -1.5156970\n",
            "3    8.400538       NA -0.8010364\n",
            "4    9.998092       NA -0.4437061\n",
            "5    8.260197       NA -0.5151722\n",
            "6    8.231275       NA -0.5866382\n"
          ]
        }
      ]
    },
    {
      "cell_type": "code",
      "source": [
        "\n",
        "%%R\n",
        "# NA represents missing data, NaN represents undefined numerical operations\n",
        "insurance$age[1] <- NaN  # Introduce a NaN\n",
        "\n",
        "# Print the dataset to check the introduced NaN\n",
        "head(insurance)\n",
        "\n",
        "# Filling NaN with mean\n",
        "insurance$age[is.nan(insurance$age)] <- mean(insurance$age, na.rm = TRUE)\n",
        "\n",
        "# Print the dataset after replacing NaN with mean\n",
        "head(insurance)\n",
        "\n",
        "# Filling NA with median\n",
        "insurance$age[is.na(insurance$age)] <- median(insurance$age, na.rm = TRUE)\n",
        "\n",
        "# Print the dataset after replacing NA with median\n",
        "head(insurance)\n"
      ],
      "metadata": {
        "colab": {
          "base_uri": "https://localhost:8080/"
        },
        "id": "TvqtFQMMfOPD",
        "outputId": "ad8380c9-ff90-4494-9de3-bcb5040ce55b"
      },
      "execution_count": 31,
      "outputs": [
        {
          "output_type": "stream",
          "name": "stdout",
          "text": [
            "       age sex    bmi children smoker    region   charges      Company\n",
            "1 39.20874   F 27.900        0    yes southwest 16884.924    BlueCross\n",
            "2 18.00000   M 33.770        1     no southeast  1725.552    BlueCross\n",
            "3 28.00000   M 33.000        3     no southeast  4449.462    BlueCross\n",
            "4 33.00000   M 22.705        0     no northwest 21984.471 UnitedHealth\n",
            "5 32.00000   M 28.880        0     no northwest  3866.855    BlueCross\n",
            "6 31.00000   F 25.740        0     no southeast  3756.622 UnitedHealth\n",
            "  log_charges norm_bmi    std_age\n",
            "1    9.734176       NA  0.0000000\n",
            "2    7.453302       NA -1.5156970\n",
            "3    8.400538       NA -0.8010364\n",
            "4    9.998092       NA -0.4437061\n",
            "5    8.260197       NA -0.5151722\n",
            "6    8.231275       NA -0.5866382\n"
          ]
        }
      ]
    },
    {
      "cell_type": "code",
      "source": [
        "%%R\n",
        "# Forward fill\n",
        "insurance$age <- na.locf(insurance$age, na.rm = FALSE)\n",
        "\n",
        "# Backward fill\n",
        "insurance$age <- na.locf(insurance$age, na.rm = FALSE, fromLast = TRUE)\n",
        "head(insurance)\n"
      ],
      "metadata": {
        "colab": {
          "base_uri": "https://localhost:8080/"
        },
        "id": "WoBF9OrGfY_O",
        "outputId": "fe26915b-b250-4f4a-d619-d787169d3d9e"
      },
      "execution_count": 32,
      "outputs": [
        {
          "output_type": "stream",
          "name": "stdout",
          "text": [
            "       age sex    bmi children smoker    region   charges      Company\n",
            "1 39.20874   F 27.900        0    yes southwest 16884.924    BlueCross\n",
            "2 18.00000   M 33.770        1     no southeast  1725.552    BlueCross\n",
            "3 28.00000   M 33.000        3     no southeast  4449.462    BlueCross\n",
            "4 33.00000   M 22.705        0     no northwest 21984.471 UnitedHealth\n",
            "5 32.00000   M 28.880        0     no northwest  3866.855    BlueCross\n",
            "6 31.00000   F 25.740        0     no southeast  3756.622 UnitedHealth\n",
            "  log_charges norm_bmi    std_age\n",
            "1    9.734176       NA  0.0000000\n",
            "2    7.453302       NA -1.5156970\n",
            "3    8.400538       NA -0.8010364\n",
            "4    9.998092       NA -0.4437061\n",
            "5    8.260197       NA -0.5151722\n",
            "6    8.231275       NA -0.5866382\n"
          ]
        }
      ]
    },
    {
      "cell_type": "code",
      "source": [
        "%%R\n",
        "# Log transformation for skewed data\n",
        "insurance$log_charges <- log(insurance$charges)\n",
        "\n",
        "# Normalization\n",
        "insurance$norm_bmi <- (insurance$bmi - min(insurance$bmi)) / (max(insurance$bmi) - min(insurance$bmi))\n",
        "\n",
        "# Standardization (Z-score)\n",
        "insurance$std_age <- scale(insurance$age)\n",
        "\n",
        "# Print the first few rows to see the changes\n",
        "head(insurance)\n"
      ],
      "metadata": {
        "colab": {
          "base_uri": "https://localhost:8080/"
        },
        "id": "7f-3jS7sfgaI",
        "outputId": "a0ed719e-c287-4732-9063-048296450703"
      },
      "execution_count": 28,
      "outputs": [
        {
          "output_type": "stream",
          "name": "stdout",
          "text": [
            "       age sex    bmi children smoker    region   charges      Company\n",
            "1 39.20863   F 27.900        0    yes southwest 16884.924    BlueCross\n",
            "2 18.00000   M 33.770        1     no southeast  1725.552    BlueCross\n",
            "3 28.00000   M 33.000        3     no southeast  4449.462    BlueCross\n",
            "4 33.00000   M 22.705        0     no northwest 21984.471 UnitedHealth\n",
            "5 32.00000   M 28.880        0     no northwest  3866.855    BlueCross\n",
            "6 31.00000   F 25.740        0     no southeast  3756.622 UnitedHealth\n",
            "  log_charges norm_bmi    std_age\n",
            "1    9.734176       NA  0.0000000\n",
            "2    7.453302       NA -1.5156970\n",
            "3    8.400538       NA -0.8010364\n",
            "4    9.998092       NA -0.4437061\n",
            "5    8.260197       NA -0.5151722\n",
            "6    8.231275       NA -0.5866382\n"
          ]
        }
      ]
    },
    {
      "cell_type": "code",
      "source": [
        "%%R\n",
        "# Discretization of 'age' into bins\n",
        "insurance$age_group <- cut(insurance$age,\n",
        "                           breaks = c(0, 18, 35, 50, 100),\n",
        "                           labels = c(\"Child\", \"Young Adult\", \"Adult\", \"Senior\"))\n",
        "# Print the first few rows to see the changes\n",
        "head(insurance)\n"
      ],
      "metadata": {
        "colab": {
          "base_uri": "https://localhost:8080/"
        },
        "id": "OsDrPoykfyaO",
        "outputId": "2324440b-b46e-4b44-b359-238f3a545da7"
      },
      "execution_count": 33,
      "outputs": [
        {
          "output_type": "stream",
          "name": "stdout",
          "text": [
            "       age sex    bmi children smoker    region   charges      Company\n",
            "1 39.20874   F 27.900        0    yes southwest 16884.924    BlueCross\n",
            "2 18.00000   M 33.770        1     no southeast  1725.552    BlueCross\n",
            "3 28.00000   M 33.000        3     no southeast  4449.462    BlueCross\n",
            "4 33.00000   M 22.705        0     no northwest 21984.471 UnitedHealth\n",
            "5 32.00000   M 28.880        0     no northwest  3866.855    BlueCross\n",
            "6 31.00000   F 25.740        0     no southeast  3756.622 UnitedHealth\n",
            "  log_charges norm_bmi    std_age   age_group\n",
            "1    9.734176       NA  0.0000000       Adult\n",
            "2    7.453302       NA -1.5156970       Child\n",
            "3    8.400538       NA -0.8010364 Young Adult\n",
            "4    9.998092       NA -0.4437061 Young Adult\n",
            "5    8.260197       NA -0.5151722 Young Adult\n",
            "6    8.231275       NA -0.5866382 Young Adult\n"
          ]
        }
      ]
    },
    {
      "cell_type": "code",
      "source": [
        "%%R\n",
        "# Outlier detection using IQR for 'charges'\n",
        "Q1 <- quantile(insurance$charges, 0.25)\n",
        "Q3 <- quantile(insurance$charges, 0.75)\n",
        "IQR <- Q3 - Q1\n",
        "\n",
        "# Outlier filtering\n",
        "insurance_outliers <- insurance %>%\n",
        "  filter(charges < (Q1 - 1.5 * IQR) | charges > (Q3 + 1.5 * IQR))\n",
        "\n",
        "# Display outliers\n",
        "head(insurance_outliers)\n",
        "\n"
      ],
      "metadata": {
        "colab": {
          "base_uri": "https://localhost:8080/"
        },
        "id": "ttS2gcNLgqd9",
        "outputId": "e4125d06-da32-4706-d615-1bc03ab88766"
      },
      "execution_count": 34,
      "outputs": [
        {
          "output_type": "stream",
          "name": "stdout",
          "text": [
            "  age sex   bmi children smoker    region  charges      Company log_charges\n",
            "1  27   M 42.13        0    yes southeast 39611.76 UnitedHealth    10.58688\n",
            "2  30   M 35.30        0    yes southwest 36837.47    BlueCross    10.51427\n",
            "3  34   F 31.92        1    yes northeast 37701.88        Aetna    10.53747\n",
            "4  31   M 36.30        2    yes southwest 38711.00 UnitedHealth    10.56388\n",
            "5  22   M 35.60        0    yes southwest 35585.58        Aetna    10.47970\n",
            "6  28   M 36.40        1    yes southwest 51194.56 UnitedHealth    10.84339\n",
            "  norm_bmi    std_age   age_group\n",
            "1       NA -0.8725025 Young Adult\n",
            "2       NA -0.6581043 Young Adult\n",
            "3       NA -0.3722401 Young Adult\n",
            "4       NA -0.5866382 Young Adult\n",
            "5       NA -1.2298327 Young Adult\n",
            "6       NA -0.8010364 Young Adult\n"
          ]
        }
      ]
    },
    {
      "cell_type": "code",
      "source": [
        "%%R\n",
        "# Check the data types of each column\n",
        "str(insurance)\n"
      ],
      "metadata": {
        "colab": {
          "base_uri": "https://localhost:8080/"
        },
        "id": "rTLYUDdWg-FF",
        "outputId": "922e711d-c509-4790-c748-e594e8c7cc9c"
      },
      "execution_count": 35,
      "outputs": [
        {
          "output_type": "stream",
          "name": "stdout",
          "text": [
            "'data.frame':\t1338 obs. of  12 variables:\n",
            " $ age        : num  39.2 18 28 33 32 ...\n",
            " $ sex        : chr  \"F\" \"M\" \"M\" \"M\" ...\n",
            " $ bmi        : num  27.9 33.8 33 22.7 28.9 ...\n",
            " $ children   : int  0 1 3 0 0 0 1 3 2 0 ...\n",
            " $ smoker     : chr  \"yes\" \"no\" \"no\" \"no\" ...\n",
            " $ region     : chr  \"southwest\" \"southeast\" \"southeast\" \"northwest\" ...\n",
            " $ charges    : num  16885 1726 4449 21984 3867 ...\n",
            " $ Company    : chr  \"BlueCross\" \"BlueCross\" \"BlueCross\" \"UnitedHealth\" ...\n",
            " $ log_charges: num  9.73 7.45 8.4 10 8.26 ...\n",
            " $ norm_bmi   : num  NA NA NA NA NA NA NA NA NA NA ...\n",
            " $ std_age    : num [1:1338, 1] 0 -1.516 -0.801 -0.444 -0.515 ...\n",
            "  ..- attr(*, \"scaled:center\")= num 39.2\n",
            "  ..- attr(*, \"scaled:scale\")= num 14\n",
            " $ age_group  : Factor w/ 4 levels \"Child\",\"Young Adult\",..: 3 1 2 2 2 2 3 3 3 4 ...\n"
          ]
        }
      ]
    },
    {
      "cell_type": "code",
      "source": [
        "%%R\n",
        "# Find the descriptive statistics of the entire dataset\n",
        "summary(insurance)\n"
      ],
      "metadata": {
        "colab": {
          "base_uri": "https://localhost:8080/"
        },
        "id": "HEXtjVoThz_E",
        "outputId": "9a07d188-c921-4ae8-e048-7dc7821e5248"
      },
      "execution_count": 36,
      "outputs": [
        {
          "output_type": "stream",
          "name": "stdout",
          "text": [
            "      age            sex                 bmi           children    \n",
            " Min.   :18.00   Length:1338        Min.   :15.96   Min.   :0.000  \n",
            " 1st Qu.:27.00   Class :character   1st Qu.:26.29   1st Qu.:0.000  \n",
            " Median :39.10   Mode  :character   Median :30.40   Median :1.000  \n",
            " Mean   :39.21                      Mean   :30.66   Mean   :1.095  \n",
            " 3rd Qu.:51.00                      3rd Qu.:34.67   3rd Qu.:2.000  \n",
            " Max.   :64.00                      Max.   :53.13   Max.   :5.000  \n",
            "                                    NA's   :1                      \n",
            "    smoker             region             charges        Company         \n",
            " Length:1338        Length:1338        Min.   : 1122   Length:1338       \n",
            " Class :character   Class :character   1st Qu.: 4740   Class :character  \n",
            " Mode  :character   Mode  :character   Median : 9382   Mode  :character  \n",
            "                                       Mean   :13270                     \n",
            "                                       3rd Qu.:16640                     \n",
            "                                       Max.   :63770                     \n",
            "                                                                         \n",
            "  log_charges        norm_bmi         std_age.V1            age_group  \n",
            " Min.   : 7.023   Min.   : NA    Min.   :-1.5156970   Child      : 69  \n",
            " 1st Qu.: 8.464   1st Qu.: NA    1st Qu.:-0.8725025   Young Adult:501  \n",
            " Median : 9.147   Median : NA    Median :-0.0079946   Adult      :415  \n",
            " Mean   : 9.099   Mean   :NaN    Mean   : 0.0000000   Senior     :353  \n",
            " 3rd Qu.: 9.720   3rd Qu.: NA    3rd Qu.: 0.8426829                    \n",
            " Max.   :11.063   Max.   : NA    Max.   : 1.7717416                    \n",
            "                  NA's   :1338                                         \n"
          ]
        }
      ]
    },
    {
      "cell_type": "code",
      "source": [
        "%%R\n",
        "# Data Cleaning: Remove rows with NA\n",
        "insurance_cleaned <- na.omit(insurance)\n",
        "head(insurance_cleaned)\n"
      ],
      "metadata": {
        "colab": {
          "base_uri": "https://localhost:8080/"
        },
        "id": "B3niT2VPh3JI",
        "outputId": "78bde644-0f29-42bd-b38a-86061018716d"
      },
      "execution_count": 37,
      "outputs": [
        {
          "output_type": "stream",
          "name": "stdout",
          "text": [
            " [1] age         sex         bmi         children    smoker      region     \n",
            " [7] charges     Company     log_charges norm_bmi    std_age     age_group  \n",
            "<0 rows> (or 0-length row.names)\n"
          ]
        }
      ]
    },
    {
      "cell_type": "code",
      "source": [
        "%%R\n",
        "# Compute the measure of central tendency (mean, median, mode) for the 'height' column\n",
        "mean_height <- mean(insurance$height, na.rm = TRUE)\n",
        "median_height <- median(insurance$height, na.rm = TRUE)\n",
        "mode_height <- as.numeric(names(sort(table(insurance$height), decreasing = TRUE))[1])\n",
        "\n",
        "# Print the measures of central tendency\n",
        "cat(\"Mean Height:\", mean_height, \"\\n\")\n",
        "cat(\"Median Height:\", median_height, \"\\n\")\n",
        "cat(\"Mode Height:\", mode_height, \"\\n\")\n"
      ],
      "metadata": {
        "colab": {
          "base_uri": "https://localhost:8080/"
        },
        "id": "I257zi5Ih8Lr",
        "outputId": "4e2e98e5-36d8-4d45-9053-2a34ad8fce33"
      },
      "execution_count": 38,
      "outputs": [
        {
          "output_type": "stream",
          "name": "stdout",
          "text": [
            "Mean Height: NA \n",
            "Median Height: \n",
            "Mode Height:  \n"
          ]
        }
      ]
    },
    {
      "cell_type": "code",
      "source": [
        "%%R\n",
        "# Descriptive statistics for the 'height' column\n",
        "summary(insurance$height)\n"
      ],
      "metadata": {
        "colab": {
          "base_uri": "https://localhost:8080/"
        },
        "id": "pnMmm-O4h_Fz",
        "outputId": "8031283d-57fc-4b01-8292-40a93719a3db"
      },
      "execution_count": 39,
      "outputs": [
        {
          "output_type": "stream",
          "name": "stdout",
          "text": [
            "Length  Class   Mode \n",
            "     0   NULL   NULL \n"
          ]
        }
      ]
    },
    {
      "cell_type": "code",
      "source": [
        "%%R\n",
        "# Calculate the mean, median, and mode of the height column and display top 30 largest values\n",
        "top_30_height <- sort(insurance$height, decreasing = TRUE)[1:30]\n",
        "cat(\"Top 30 largest values in Height:\\n\", top_30_height)\n"
      ],
      "metadata": {
        "colab": {
          "base_uri": "https://localhost:8080/"
        },
        "id": "KcnHbTadiDY9",
        "outputId": "e0ea5265-9a09-43e1-cb37-f254531e523f"
      },
      "execution_count": 40,
      "outputs": [
        {
          "output_type": "stream",
          "name": "stdout",
          "text": [
            "Top 30 largest values in Height:\n"
          ]
        }
      ]
    },
    {
      "cell_type": "code",
      "source": [
        "%%R\n",
        "# Draw a Bar Chart for a categorical variable (example: 'age_group')\n",
        "library(ggplot2)\n",
        "ggplot(insurance, aes(x = age_group)) +\n",
        "  geom_bar() +\n",
        "  theme_minimal() +\n",
        "  labs(title = \"Bar Chart of Age Groups\", x = \"Age Group\", y = \"Count\")\n"
      ],
      "metadata": {
        "colab": {
          "base_uri": "https://localhost:8080/",
          "height": 497
        },
        "id": "OTrAaEiEiHlc",
        "outputId": "56afefc7-c97d-4a2e-ba9c-4408ca225033"
      },
      "execution_count": 41,
      "outputs": [
        {
          "output_type": "display_data",
          "data": {
            "image/png": "[encoded data removed]"
          },
          "metadata": {}
        }
      ]
    },
    {
      "cell_type": "code",
      "source": [
        "%%R\n",
        "# Draw a Distribution Plot for a numeric variable (example: 'charges')\n",
        "ggplot(insurance, aes(x = charges)) +\n",
        "  geom_density(fill = \"skyblue\", alpha = 0.5) +\n",
        "  theme_minimal() +\n",
        "  labs(title = \"Distribution Plot of Charges\", x = \"Charges\", y = \"Density\")\n"
      ],
      "metadata": {
        "colab": {
          "base_uri": "https://localhost:8080/",
          "height": 497
        },
        "id": "IjzjAdmjiMMj",
        "outputId": "ef3f6628-4f0e-4397-e945-75fa4637c654"
      },
      "execution_count": 42,
      "outputs": [
        {
          "output_type": "display_data",
          "data": {
            "image/png": "[encoded data removed]"
          },
          "metadata": {}
        }
      ]
    },
    {
      "cell_type": "code",
      "source": [
        "%%R\n",
        "# Draw a Boxplot for the 'charges' column\n",
        "ggplot(insurance, aes(y = charges)) +\n",
        "  geom_boxplot(fill = \"lightcoral\", color = \"darkred\") +\n",
        "  theme_minimal() +\n",
        "  labs(title = \"Boxplot of Charges\", y = \"Charges\")\n"
      ],
      "metadata": {
        "colab": {
          "base_uri": "https://localhost:8080/",
          "height": 497
        },
        "id": "oiD33tihiQMk",
        "outputId": "69d57fbc-28b4-4ba4-a9be-16d3d8138455"
      },
      "execution_count": 43,
      "outputs": [
        {
          "output_type": "display_data",
          "data": {
            "image/png": "[encoded data removed]"
          },
          "metadata": {}
        }
      ]
    },
    {
      "cell_type": "code",
      "source": [
        "%%R\n",
        "# Bivariate Analysis: Correlation between 'charges' and 'age'\n",
        "ggplot(insurance, aes(x = age, y = charges)) +\n",
        "  geom_point(color = \"darkgreen\") +\n",
        "  geom_smooth(method = \"lm\", color = \"blue\") +\n",
        "  theme_minimal() +\n",
        "  labs(title = \"Bivariate Analysis: Age vs Charges\", x = \"Age\", y = \"Charges\")\n"
      ],
      "metadata": {
        "colab": {
          "base_uri": "https://localhost:8080/",
          "height": 514
        },
        "id": "TIcHsM3YiSdZ",
        "outputId": "e541e3d7-5b16-4248-c794-2a4dfde85ac2"
      },
      "execution_count": 44,
      "outputs": [
        {
          "output_type": "stream",
          "name": "stdout",
          "text": [
            "`geom_smooth()` using formula = 'y ~ x'\n"
          ]
        },
        {
          "output_type": "display_data",
          "data": {
            "image/png": "[encoded data removed]"
          },
          "metadata": {}
        }
      ]
    },
    {
      "cell_type": "code",
      "source": [
        "\n",
        "%%R\n",
        "# Multivariate Analysis: Scatter plot matrix (pairs plot)\n",
        "pairs(insurance[, c(\"age\", \"bmi\", \"charges\", \"height\")], main = \"Multivariate Analysis: Pairs Plot\")\n"
      ],
      "metadata": {
        "colab": {
          "base_uri": "https://localhost:8080/"
        },
        "id": "w22DeRgmiVCH",
        "outputId": "747827e8-9a37-4b60-d134-b666b07984da"
      },
      "execution_count": 45,
      "outputs": [
        {
          "output_type": "stream",
          "name": "stderr",
          "text": [
            "WARNING:rpy2.rinterface_lib.callbacks:R[write to console]: Error in `[.data.frame`(insurance, , c(\"age\", \"bmi\", \"charges\", \"height\")) : \n",
            "  undefined columns selected\n",
            "\n",
            "WARNING:rpy2.rinterface_lib.callbacks:R[write to console]: In addition: \n",
            "WARNING:rpy2.rinterface_lib.callbacks:R[write to console]: Warning messages:\n",
            "\n",
            "WARNING:rpy2.rinterface_lib.callbacks:R[write to console]: 1: \n",
            "WARNING:rpy2.rinterface_lib.callbacks:R[write to console]: In dcast.data.table(setDT(insurance_long), sex + region ~ Attribute,  :\n",
            "WARNING:rpy2.rinterface_lib.callbacks:R[write to console]: \n",
            " \n",
            "WARNING:rpy2.rinterface_lib.callbacks:R[write to console]:  'fun.aggregate' is NULL, but found duplicate row/column combinations, so defaulting to length(). That is, the variables [sex, region, Attribute] used in 'formula' do not uniquely identify rows in the input 'data'. In such cases, 'fun.aggregate' is used to derive a single representative value for each combination in the output data.table, for example by summing or averaging (fun.aggregate=sum or fun.aggregate=mean, respectively). Check the resulting table for values larger than 1 to see which combinations were not unique. See ?dcast.data.table for more details.\n",
            "\n",
            "WARNING:rpy2.rinterface_lib.callbacks:R[write to console]: 2: \n",
            "WARNING:rpy2.rinterface_lib.callbacks:R[write to console]: In mean.default(insurance$height, na.rm = TRUE) :\n",
            "WARNING:rpy2.rinterface_lib.callbacks:R[write to console]: \n",
            " \n",
            "WARNING:rpy2.rinterface_lib.callbacks:R[write to console]:  argument is not numeric or logical: returning NA\n",
            "\n"
          ]
        },
        {
          "output_type": "stream",
          "name": "stdout",
          "text": [
            "\n",
            "Error in `[.data.frame`(insurance, , c(\"age\", \"bmi\", \"charges\", \"height\")) : \n",
            "  undefined columns selected\n"
          ]
        }
      ]
    },
    {
      "cell_type": "code",
      "source": [
        "\n",
        "%%R\n",
        "# Check column names to ensure 'height', 'age', 'bmi', and 'charges' are available\n",
        "colnames(insurance)\n"
      ],
      "metadata": {
        "colab": {
          "base_uri": "https://localhost:8080/"
        },
        "id": "7W_Satf5iaG3",
        "outputId": "aa16b986-58e9-437b-a97b-3ad033f7789b"
      },
      "execution_count": 46,
      "outputs": [
        {
          "output_type": "stream",
          "name": "stdout",
          "text": [
            " [1] \"age\"         \"sex\"         \"bmi\"         \"children\"    \"smoker\"     \n",
            " [6] \"region\"      \"charges\"     \"Company\"     \"log_charges\" \"norm_bmi\"   \n",
            "[11] \"std_age\"     \"age_group\"  \n"
          ]
        }
      ]
    },
    {
      "cell_type": "code",
      "source": [
        "%%R\n",
        "# Multivariate Analysis: Scatter plot matrix (pairs plot)\n",
        "# Use available columns: age, bmi, charges (replace height if needed)\n",
        "pairs(insurance[, c(\"age\", \"bmi\", \"charges\")], main = \"Multivariate Analysis: Pairs Plot\")\n"
      ],
      "metadata": {
        "colab": {
          "base_uri": "https://localhost:8080/",
          "height": 497
        },
        "id": "s-UevvvQipJt",
        "outputId": "f3cee979-e9a4-4818-d5d1-06ea19a2d199"
      },
      "execution_count": 47,
      "outputs": [
        {
          "output_type": "display_data",
          "data": {
            "image/png": "[encoded data removed]"
          },
          "metadata": {}
        }
      ]
    },
    {
      "cell_type": "code",
      "source": [
        "%%R\n",
        "# Check the column names of the dataset\n",
        "colnames(insurance)\n"
      ],
      "metadata": {
        "colab": {
          "base_uri": "https://localhost:8080/"
        },
        "id": "n1nbEl9_iv97",
        "outputId": "5ee949c0-6e2f-4c1d-d6f6-d8844e8baf6c"
      },
      "execution_count": 48,
      "outputs": [
        {
          "output_type": "stream",
          "name": "stdout",
          "text": [
            " [1] \"age\"         \"sex\"         \"bmi\"         \"children\"    \"smoker\"     \n",
            " [6] \"region\"      \"charges\"     \"Company\"     \"log_charges\" \"norm_bmi\"   \n",
            "[11] \"std_age\"     \"age_group\"  \n"
          ]
        }
      ]
    },
    {
      "cell_type": "code",
      "source": [
        "%%R\n",
        "# Find the descriptive statistics of the entire dataset\n",
        "summary(insurance)\n"
      ],
      "metadata": {
        "colab": {
          "base_uri": "https://localhost:8080/"
        },
        "id": "esLXoM5YjIEN",
        "outputId": "fa9a702e-ef6e-49bf-8309-edab436c34ea"
      },
      "execution_count": 49,
      "outputs": [
        {
          "output_type": "stream",
          "name": "stdout",
          "text": [
            "      age            sex                 bmi           children    \n",
            " Min.   :18.00   Length:1338        Min.   :15.96   Min.   :0.000  \n",
            " 1st Qu.:27.00   Class :character   1st Qu.:26.29   1st Qu.:0.000  \n",
            " Median :39.10   Mode  :character   Median :30.40   Median :1.000  \n",
            " Mean   :39.21                      Mean   :30.66   Mean   :1.095  \n",
            " 3rd Qu.:51.00                      3rd Qu.:34.67   3rd Qu.:2.000  \n",
            " Max.   :64.00                      Max.   :53.13   Max.   :5.000  \n",
            "                                    NA's   :1                      \n",
            "    smoker             region             charges        Company         \n",
            " Length:1338        Length:1338        Min.   : 1122   Length:1338       \n",
            " Class :character   Class :character   1st Qu.: 4740   Class :character  \n",
            " Mode  :character   Mode  :character   Median : 9382   Mode  :character  \n",
            "                                       Mean   :13270                     \n",
            "                                       3rd Qu.:16640                     \n",
            "                                       Max.   :63770                     \n",
            "                                                                         \n",
            "  log_charges        norm_bmi         std_age.V1            age_group  \n",
            " Min.   : 7.023   Min.   : NA    Min.   :-1.5156970   Child      : 69  \n",
            " 1st Qu.: 8.464   1st Qu.: NA    1st Qu.:-0.8725025   Young Adult:501  \n",
            " Median : 9.147   Median : NA    Median :-0.0079946   Adult      :415  \n",
            " Mean   : 9.099   Mean   :NaN    Mean   : 0.0000000   Senior     :353  \n",
            " 3rd Qu.: 9.720   3rd Qu.: NA    3rd Qu.: 0.8426829                    \n",
            " Max.   :11.063   Max.   : NA    Max.   : 1.7717416                    \n",
            "                  NA's   :1338                                         \n"
          ]
        }
      ]
    },
    {
      "cell_type": "code",
      "source": [
        "%%R\n",
        "# Remove rows with NA (missing) values\n",
        "insurance_cleaned <- na.omit(insurance)\n",
        "head(insurance_cleaned)\n"
      ],
      "metadata": {
        "colab": {
          "base_uri": "https://localhost:8080/"
        },
        "id": "yDU5_M1OjLkm",
        "outputId": "5ec2f682-dfa4-492e-e282-93efcfac4803"
      },
      "execution_count": 50,
      "outputs": [
        {
          "output_type": "stream",
          "name": "stdout",
          "text": [
            " [1] age         sex         bmi         children    smoker      region     \n",
            " [7] charges     Company     log_charges norm_bmi    std_age     age_group  \n",
            "<0 rows> (or 0-length row.names)\n"
          ]
        }
      ]
    },
    {
      "cell_type": "code",
      "source": [],
      "metadata": {
        "id": "1bzE8SLNjOWC"
      },
      "execution_count": null,
      "outputs": []
    }
  ]
}